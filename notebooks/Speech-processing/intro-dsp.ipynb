{
 "cells": [
  {
   "cell_type": "markdown",
   "metadata": {},
   "source": [
    "# DSP Review\n",
    "In this notebook we will introduce key ideas in digital signal processing such as:\n",
    "1. Sampling\n",
    "1. Frequency response\n",
    "\n",
    "\n",
    "## Requirements\n",
    "Create a virtual environment and install the requirements.\n",
    "\n",
    "`pip install -r requirements.txt`\n",
    "\n",
    "\n",
    "## Sampling\n",
    "Most signals of interest start off as continuous signals. To process them on computers, we must sample them. This means discretize the time axis.\n",
    "\n",
    "Let us simulate a continuous signal corresponiding to $x(t) = \\sin(2\\pi t)$ and sample it at regular intervals. The interval is known as the sampling period $T_s$. We use the following values\n",
    "1. $T_s = 1$\n",
    "1. $T_s = \\frac{1}{2}$\n",
    "1. $T_s = \\frac{1}{4}$\n",
    "1. $T_s = \\frac{1}{8}$\n",
    "\n",
    "We form a discrete time signal $x[n]$ where\n",
    "\n",
    "$x[n]=x(t)\\big|_{t=nT_s}$\n",
    "\n",
    "$x[n]=x(nT_s)$"
   ]
  },
  {
   "cell_type": "code",
   "execution_count": null,
   "metadata": {},
   "outputs": [],
   "source": [
    "# modify Ts below to see the effect on x[n]\n",
    "import numpy as np\n",
    "import matplotlib.pyplot as plt\n",
    "\n",
    "t = np.linspace(-2, 2, 1000)\n",
    "n = np.arange(-10,11)\n",
    "\n",
    "\n",
    "Ts = 1/8\n",
    "sampling_times = n * Ts\n",
    "\n",
    "%matplotlib inline\n",
    "plt.figure()\n",
    "plt.plot(t, np.sin(2 * np.pi * t))\n",
    "plt.xlabel('t', fontsize=20)\n",
    "plt.ylim([-1.5, 1.5])\n",
    "plt.ylabel(r'$x(t)$', fontsize=20)\n",
    "plt.grid(True)\n",
    "\n",
    "plt.figure()\n",
    "plt.stem(n, np.sin(2 * np.pi * sampling_times), use_line_collection=True)\n",
    "plt.ylim([-1.5, 1.5])\n",
    "plt.xlabel(r'$n$', fontsize=20)\n",
    "plt.xticks(np.arange(-10, 11), n)\n",
    "plt.ylabel(r'$x[n]$', fontsize=20)\n",
    "plt.grid(True)"
   ]
  },
  {
   "cell_type": "markdown",
   "metadata": {},
   "source": [
    "### Audio signals\n",
    "Often audio signals are stored as mp3s or wavs. These are still discrete sequences obtained by sampling and audio signal capture by a microphone at a given frequency $f_s = \\frac{1}{T_s}$.\n",
    "\n",
    "To record audio, we will use `sounddevice`. To process audio data, we will use the `librosa` library."
   ]
  },
  {
   "cell_type": "code",
   "execution_count": null,
   "metadata": {},
   "outputs": [],
   "source": [
    "# record audio\n",
    "import sounddevice as sd\n",
    "\n",
    "duration = 5  # seconds\n",
    "fs = 16000 # 16kHz\n",
    "myrecording = sd.rec(int(duration * fs), \n",
    "                     samplerate=fs, \n",
    "                     channels=1, \n",
    "                     dtype='int16')\n",
    "\n",
    "\n",
    "sd.wait()"
   ]
  },
  {
   "cell_type": "code",
   "execution_count": null,
   "metadata": {},
   "outputs": [],
   "source": [
    "max_audio_sample = 2 ** 15\n",
    "\n",
    "plt.plot(np.arange(len(myrecording)) / fs, myrecording / max_audio_sample)\n",
    "plt.xlabel(r'$t$', fontsize=20);\n",
    "plt.ylabel(r'$s(t)$', fontsize=20);\n",
    "plt.grid(True)"
   ]
  },
  {
   "cell_type": "code",
   "execution_count": null,
   "metadata": {},
   "outputs": [],
   "source": [
    "# play recording\n",
    "sd.play(myrecording, fs)"
   ]
  },
  {
   "cell_type": "code",
   "execution_count": null,
   "metadata": {},
   "outputs": [],
   "source": [
    "128 * (1 / fs) "
   ]
  },
  {
   "cell_type": "code",
   "execution_count": null,
   "metadata": {},
   "outputs": [],
   "source": [
    "# get a block of samples and display\n",
    "block_size = 128\n",
    "\n",
    "blk_start = np.random.randint(0, \n",
    "                              len(myrecording) - block_size)\n",
    "\n",
    "blk = myrecording[blk_start:blk_start + block_size]\n",
    "plt.figure()\n",
    "plt.stem(np.arange(block_size), \n",
    "         blk / max_audio_sample, \n",
    "         use_line_collection=True)\n",
    "# plt.ylim([-1.5, 1.5])\n",
    "plt.xlabel(r'$n$', fontsize=20)\n",
    "plt.ylabel(r'$b[n]$', fontsize=20)\n",
    "plt.grid(True)"
   ]
  },
  {
   "cell_type": "markdown",
   "metadata": {},
   "source": [
    "## The Spectrum\n",
    "\n",
    "A discrete time signal can be represented in both the time and frequency domains. In discrete time, the Fourier transform (DTFT) is computed as follows\n",
    "\n",
    "$X(e^{j\\omega})=\\sum_{n=-\\infty}^\\infty x[n]e^{-j\\omega n}$\n",
    "\n",
    "\n",
    "We compute it using the function `freqz` from the `scipy.signal` module"
   ]
  },
  {
   "cell_type": "code",
   "execution_count": null,
   "metadata": {},
   "outputs": [],
   "source": [
    "from scipy import signal"
   ]
  },
  {
   "cell_type": "code",
   "execution_count": null,
   "metadata": {},
   "outputs": [],
   "source": [
    "signal.freqz?"
   ]
  },
  {
   "cell_type": "markdown",
   "metadata": {},
   "source": [
    "Let's return to the sampled sinusoid and compute the frequency spectrum of the resulting sampled signal"
   ]
  },
  {
   "cell_type": "code",
   "execution_count": null,
   "metadata": {},
   "outputs": [],
   "source": [
    "Ts = 1 /16\n",
    "sampling_times = n * Ts\n",
    "xn = np.sin(2 * np.pi * sampling_times)\n",
    "\n",
    "\n",
    "plt.figure()\n",
    "plt.stem(n, xn, use_line_collection=True)\n",
    "plt.ylim([-1.5, 1.5])\n",
    "plt.xlabel(r'$n$', fontsize=20)\n",
    "plt.ylabel(r'$x[n]$', fontsize=20)\n",
    "plt.grid(True)\n",
    "\n",
    "plt.figure()\n",
    "w, X = signal.freqz(xn)\n",
    "plt.plot(w, abs(X), 'b')\n",
    "plt.ylabel('Magnitude Response')\n",
    "plt.xlabel('Frequency [rad/sample]')"
   ]
  },
  {
   "cell_type": "markdown",
   "metadata": {},
   "source": [
    "Now let us consider the signal \n",
    "\n",
    "$x[n] = \\cos(\\omega_0n + 2\\pi n) = \\cos(\\omega_0n)$"
   ]
  },
  {
   "cell_type": "code",
   "execution_count": null,
   "metadata": {},
   "outputs": [],
   "source": [
    "np.mod(8, 5)"
   ]
  },
  {
   "cell_type": "code",
   "execution_count": null,
   "metadata": {},
   "outputs": [],
   "source": [
    "np.pi / 8"
   ]
  },
  {
   "cell_type": "code",
   "execution_count": null,
   "metadata": {},
   "outputs": [],
   "source": [
    "w0 = np.pi * .125   \n",
    "xn = np.cos(w0 * n)\n",
    "\n",
    "plt.figure()\n",
    "plt.stem(n, xn, use_line_collection=True)\n",
    "plt.ylim([-1.5, 1.5])\n",
    "plt.xlabel(r'$n$', fontsize=20)\n",
    "plt.ylabel(r'$x[n]$', fontsize=20)\n",
    "plt.grid(True)\n",
    "\n",
    "plt.figure()\n",
    "w, X = signal.freqz(xn)\n",
    "plt.plot(w, abs(X), 'b')\n",
    "plt.axvline(np.mod(w0, 2 * np.pi) , c='r')\n",
    "plt.ylabel('Magnitude Response')\n",
    "plt.xlabel('Frequency [rad/sample]')\n"
   ]
  },
  {
   "cell_type": "markdown",
   "metadata": {},
   "source": [
    "## The spectrum of sampled signals\n",
    "\n",
    "When we sample a signal, we can use the sampled signal to estimate the frequency content of the original continuous time signal.\n",
    "\n",
    "Consider the sinusoid \n",
    "\n",
    "\\begin{equation}\n",
    "x(t) = \\cos(2\\pi f_0 t)\n",
    "\\end{equation}\n",
    "\n",
    "Let's generate this signal with $f_0 = 1$kHz. We will sample the signal at 16KHz."
   ]
  },
  {
   "cell_type": "code",
   "execution_count": null,
   "metadata": {},
   "outputs": [],
   "source": [
    "f0 = 1000\n",
    "fs = 16e3\n",
    "Ts = 1 / fs\n",
    "duration = 5 # seconds\n",
    "n = np.arange(duration * fs)\n",
    "\n",
    "xn = np.concatenate((np.cos(2 * np.pi * f0 * n * Ts),\n",
    "                     np.cos(2 * np.pi * 2 *f0 * n * Ts)))\n",
    "\n",
    "plt.figure()\n",
    "plt.stem(np.arange(2 * duration * fs), xn, use_line_collection=True)\n",
    "plt.ylim([-1.5, 1.5])\n",
    "plt.xlabel(r'$n$', fontsize=20)\n",
    "plt.ylabel(r'$x[n]$', fontsize=20)\n",
    "plt.grid(True)"
   ]
  },
  {
   "cell_type": "code",
   "execution_count": null,
   "metadata": {},
   "outputs": [],
   "source": [
    "# play the tone - LOWER YOUR VOLUME BEFORE RUNNING\n",
    "# change the frequency and repeat\n",
    "sd.play(xn, fs)"
   ]
  },
  {
   "cell_type": "markdown",
   "metadata": {},
   "source": [
    "## FFT\n",
    "\n",
    "To estimate the spectrum of this signal, we will use the FFT. This is an efficient tool to compute the Discrete Fourier Transform of a discrete sequence. The DFT is a sampled version of the DTFT.\n",
    "\n",
    "We start by taking a small block of N samples, taking the `fft` and plotting.\n",
    "\n",
    "This FFT samples the spectrum at discrete frequencies $f_k$ between $0$ and $\\frac{f_s}{2}$. We have\n",
    "\n",
    "$f_k = \\frac{kf_s}{N}$ for $k = 0, \\ldots ,\\frac{N}{2}$\n",
    "\n"
   ]
  },
  {
   "cell_type": "code",
   "execution_count": null,
   "metadata": {},
   "outputs": [],
   "source": [
    "# get a block\n",
    "\n",
    "nfft = 128\n",
    "\n",
    "blk_start = np.random.randint(0, \n",
    "                              len(xn) - nfft)\n",
    "\n",
    "blk = xn[blk_start:blk_start + nfft]\n",
    "plt.figure()\n",
    "plt.stem(np.arange(nfft), \n",
    "         blk, \n",
    "         use_line_collection=True)\n",
    "plt.xlabel(r'$n$', fontsize=20)\n",
    "plt.ylabel(r'$b[n]$', fontsize=20)\n",
    "plt.grid(True)"
   ]
  },
  {
   "cell_type": "code",
   "execution_count": null,
   "metadata": {},
   "outputs": [],
   "source": [
    "Xf = np.fft.fft(xn, nfft)\n",
    "\n",
    "plt.plot(np.arange(nfft//2 + 1) / nfft * fs, \n",
    "         np.abs(Xf)[:nfft//2 + 1])\n",
    "#plt.xlim([0, 5])\n",
    "plt.xlabel('f', fontsize=20)\n",
    "plt.ylabel(r'$\\hat{X}(f)$', fontsize=20)\n",
    "plt.xlim([0, fs / 2])\n",
    "plt.grid(True)"
   ]
  },
  {
   "cell_type": "code",
   "execution_count": null,
   "metadata": {},
   "outputs": [],
   "source": [
    "# if we compute the FFT for all blocks \n",
    "# we generate a spectrogram\n",
    "import librosa\n",
    "import librosa.display\n",
    "\n",
    "\n",
    "hop_len = nfft // 2\n",
    "spectrum = np.abs(librosa.stft(xn, \n",
    "                               n_fft=nfft, \n",
    "                               hop_length=hop_len))\n",
    "\n",
    "plt.figure()\n",
    "librosa.display.specshow(librosa.amplitude_to_db(spectrum, ref=np.max),\n",
    "                         sr=fs,\n",
    "                         hop_length=hop_len,\n",
    "                         y_axis='linear', \n",
    "                         x_axis='time')\n",
    "plt.title('Spectrogram of sampled signal')\n",
    "plt.xticks([])\n",
    "plt.xlabel('')"
   ]
  },
  {
   "cell_type": "code",
   "execution_count": null,
   "metadata": {},
   "outputs": [],
   "source": [
    "nfft = 256\n",
    "hop_len = nfft // 2\n",
    "spectrum = np.abs(librosa.stft(myrecording.reshape(1, -1)[0,:] / max_audio_sample, \n",
    "                               n_fft=nfft, \n",
    "                               hop_length=hop_len))\n",
    "\n",
    "plt.figure()\n",
    "librosa.display.specshow(librosa.amplitude_to_db(spectrum, ref=np.max),\n",
    "                         sr=fs,\n",
    "                         hop_length=hop_len,\n",
    "                         y_axis='linear', \n",
    "                         x_axis='time')\n",
    "plt.title('Spectrogram of sampled signal')\n",
    "plt.xticks([])\n",
    "plt.xlabel('')"
   ]
  },
  {
   "cell_type": "code",
   "execution_count": null,
   "metadata": {},
   "outputs": [],
   "source": [
    "myrecording.shape"
   ]
  },
  {
   "cell_type": "code",
   "execution_count": null,
   "metadata": {},
   "outputs": [],
   "source": []
  },
  {
   "cell_type": "code",
   "execution_count": null,
   "metadata": {},
   "outputs": [],
   "source": []
  }
 ],
 "metadata": {
  "kernelspec": {
   "display_name": "Python 3 (ipykernel)",
   "language": "python",
   "name": "python3"
  },
  "language_info": {
   "codemirror_mode": {
    "name": "ipython",
    "version": 3
   },
   "file_extension": ".py",
   "mimetype": "text/x-python",
   "name": "python",
   "nbconvert_exporter": "python",
   "pygments_lexer": "ipython3",
   "version": "3.8.10"
  }
 },
 "nbformat": 4,
 "nbformat_minor": 2
}
