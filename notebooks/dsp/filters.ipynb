{
 "cells": [
  {
   "cell_type": "markdown",
   "metadata": {},
   "source": [
    "## Filters\n",
    "\n",
    "Filters are frequency selective systems. A linear time invariant system is completely specified by its impulse response or equivalently by its frequency response. \n",
    "\n",
    "Recall that the frequency response of a linear time invariant system is given by the Fourier transform of its impulse response. We have\n",
    "\n",
    "$H(e^{j\\omega})=\\sum_{n=-\\infty}^\\infty h[n]e^{-j\\omega n}$\n",
    "\n",
    "\n",
    "### Lowpass filter\n",
    "For an LPF we have\n",
    "\\begin{equation}\n",
    "H(e^{j\\omega})=\\left\\{ \\begin{array}{ll}\n",
    "1 & \\textrm{ $|\\omega|\\leq \\omega_c$}\\\\\n",
    "0 & \\textrm{$\\omega_c\\leq|\\omega|\\leq \\pi$}\n",
    "\\end{array} \\right.\n",
    "\\end{equation} \n",
    "\n",
    "1. Sketch this frequency response\n",
    "\n",
    "This is the ideal low pass frequency response. In practice, the transitions between the stop and pass bands are not sharp. \n",
    "\n",
    "We will create a lowpass filter whose cutoff is $\\pi/4$ using the [`scipy` module.](https://docs.scipy.org/doc/scipy/reference/generated/scipy.signal.firwin.html#scipy.signal.firwin)\n",
    "\n",
    "We generate finite impulse response (FIR) filters using the windowing technique."
   ]
  },
  {
   "cell_type": "code",
   "execution_count": null,
   "metadata": {},
   "outputs": [],
   "source": [
    "import numpy as np\n",
    "import matplotlib.pyplot as plt\n",
    "\n",
    "from scipy import signal"
   ]
  },
  {
   "cell_type": "code",
   "execution_count": null,
   "metadata": {},
   "outputs": [],
   "source": [
    "# filter taps\n",
    "numtaps = 15\n",
    "omega_c = np.pi / 4\n",
    "h_lp = signal.firwin(numtaps, omega_c / np.pi)\n",
    "\n",
    "\n",
    "# plot the frequency response\n",
    "\n",
    "w, h = signal.freqz(h_lp)\n",
    "plt.plot(w, 20 * np.log10(abs(h)), 'b')\n",
    "plt.ylabel('Amplitude [dB]')\n",
    "plt.xlabel('Frequency [rad/sample]')\n",
    "plt.xlim([0, np.pi])\n",
    "plt.axvline(omega_c, c='r')\n",
    "plt.grid()"
   ]
  },
  {
   "cell_type": "markdown",
   "metadata": {},
   "source": [
    "## Highpass filter\n",
    "\n",
    "For a HPF we have\n",
    "\\begin{equation}\n",
    "H(e^{j\\omega})=\\left\\{ \\begin{array}{ll}\n",
    "1 & \\textrm{ $\\omega_c\\leq|\\omega|\\leq \\pi$}\\\\\n",
    "0 & \\textrm{$0\\leq|\\omega|\\leq \\omega_c$}\n",
    "\\end{array} \\right.\n",
    "\\end{equation} \n",
    "\n",
    "1. Sketch this frequency response\n",
    "\n",
    "This is the ideal highpass frequency response. \n",
    "\n",
    "We will create a highpass filter whose cutoff is $\\pi/4$ using the `scipy` module.\n"
   ]
  },
  {
   "cell_type": "code",
   "execution_count": null,
   "metadata": {},
   "outputs": [],
   "source": [
    "# filter taps\n",
    "numtaps = 15\n",
    "omega_c = np.pi / 2\n",
    "h_hp = signal.firwin(numtaps, omega_c / np.pi, pass_zero=False)\n",
    "\n",
    "\n",
    "# plot the frequency response\n",
    "w, h = signal.freqz(h_hp)\n",
    "plt.plot(w, 20 * np.log10(abs(h)), 'b')\n",
    "plt.axvline(omega_c, c='r')\n",
    "plt.ylabel('Amplitude [dB]')\n",
    "plt.xlabel('Frequency [rad/sample]')\n",
    "plt.xlim([0, np.pi])\n",
    "plt.grid()"
   ]
  },
  {
   "cell_type": "markdown",
   "metadata": {},
   "source": [
    "### Bandpass Filter\n",
    "\n",
    "For a BPF we have\n",
    "\\begin{equation}\n",
    "H(e^{j\\omega})=\\left\\{ \\begin{array}{ll}\n",
    "1 & \\textrm{ $\\omega_l\\leq|\\omega|\\leq \\omega_u$}\\\\\n",
    "0 & \\textrm{otherwise}\n",
    "\\end{array} \\right.\n",
    "\\end{equation} \n",
    "\n",
    "1. Sketch this frequency response\n",
    "\n",
    "This is the ideal highpass frequency response. \n",
    "\n",
    "We will create a BPF filter with $\\omega_l = 0.1$ and $\\omega_u = 0.2$ "
   ]
  },
  {
   "cell_type": "code",
   "execution_count": null,
   "metadata": {},
   "outputs": [],
   "source": [
    "numtaps = 15\n",
    "omega_1 = np.pi / 4\n",
    "omega_2 = np.pi / 2\n",
    "\n",
    "h_bp = signal.firwin(numtaps, [omega_1 / np.pi, omega_2 / np.pi], pass_zero=False)\n",
    "# plot the frequency response\n",
    "w, h = signal.freqz(h_bp)\n",
    "plt.plot(w, 20 * np.log10(abs(h)), 'b')\n",
    "plt.axvline(omega_1, c='r')\n",
    "plt.axvline(omega_2, c='r')\n",
    "plt.ylabel('Amplitude [dB]')\n",
    "plt.xlabel('Frequency [rad/sample]')\n",
    "plt.xlim([0, np.pi])\n",
    "plt.grid()"
   ]
  },
  {
   "cell_type": "markdown",
   "metadata": {},
   "source": [
    "## Filtering \n",
    "Let us explore the effect of these filters on a sinusoidal input $\\cos(\\omega_0 n)$"
   ]
  },
  {
   "cell_type": "code",
   "execution_count": null,
   "metadata": {},
   "outputs": [],
   "source": [
    "numtaps = 17\n",
    "h_hp = signal.firwin(numtaps, .25, pass_zero=False)\n",
    "\n",
    "# signal below pi / 4 and above pi / 4\n",
    "\n",
    "omega_0 = np.pi * .5 \n",
    "n = np.arange(-10,11) # we consider -10 < n < 10\n",
    "x_n = np.cos(omega_0 * n)\n",
    "\n",
    "\n",
    "plt.figure()\n",
    "plt.stem(n, \n",
    "         x_n, \n",
    "         use_line_collection=True)\n",
    "plt.xlabel(r'$n$', fontsize=20)\n",
    "plt.grid(True)\n",
    "\n",
    "\n",
    "plt.figure()\n",
    "# plot the frequency response\n",
    "w, h = signal.freqz(h_hp)\n",
    "plt.plot(w, 20 * np.log10(abs(h)), 'b')\n",
    "plt.axvline(omega_c, c='r')\n",
    "plt.ylabel('Amplitude [dB]')\n",
    "plt.xlabel('Frequency [rad/sample]')\n",
    "plt.xlim([0, np.pi])\n",
    "plt.grid()\n"
   ]
  },
  {
   "cell_type": "code",
   "execution_count": null,
   "metadata": {},
   "outputs": [],
   "source": [
    "y_n = signal.lfilter(h_hp, 1, x_n)\n",
    "plt.stem(n, \n",
    "         y_n, \n",
    "         use_line_collection=True)\n",
    "plt.xlabel(r'$n$', fontsize=20)\n",
    "plt.grid(True)"
   ]
  },
  {
   "cell_type": "code",
   "execution_count": null,
   "metadata": {},
   "outputs": [],
   "source": [
    "np.convolve?"
   ]
  },
  {
   "cell_type": "code",
   "execution_count": null,
   "metadata": {},
   "outputs": [],
   "source": [
    "sig_filtered = np.convolve(x_n, h_hp, mode='same')"
   ]
  },
  {
   "cell_type": "code",
   "execution_count": null,
   "metadata": {},
   "outputs": [],
   "source": [
    "plt.stem(n, \n",
    "         sig_filtered, \n",
    "         use_line_collection=True)\n",
    "plt.xlabel(r'$n$', fontsize=20)\n",
    "plt.grid(True)"
   ]
  },
  {
   "cell_type": "code",
   "execution_count": null,
   "metadata": {},
   "outputs": [],
   "source": []
  },
  {
   "cell_type": "code",
   "execution_count": null,
   "metadata": {},
   "outputs": [],
   "source": []
  }
 ],
 "metadata": {
  "kernelspec": {
   "display_name": "Python 3",
   "language": "python",
   "name": "python3"
  },
  "language_info": {
   "codemirror_mode": {
    "name": "ipython",
    "version": 3
   },
   "file_extension": ".py",
   "mimetype": "text/x-python",
   "name": "python",
   "nbconvert_exporter": "python",
   "pygments_lexer": "ipython3",
   "version": "3.7.3"
  }
 },
 "nbformat": 4,
 "nbformat_minor": 2
}
