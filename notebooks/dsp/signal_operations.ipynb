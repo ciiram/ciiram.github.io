{
 "cells": [
  {
   "cell_type": "markdown",
   "metadata": {},
   "source": [
    "## Delay"
   ]
  },
  {
   "cell_type": "code",
   "execution_count": null,
   "metadata": {},
   "outputs": [],
   "source": [
    "import numpy as np\n",
    "import matplotlib.pyplot as plt\n",
    "\n",
    "# delayed unit sample \n",
    "n_d = 2\n",
    "sample_points = np.arange(-5,6) # we consider -5 < n < 5\n",
    "d_n = [0] * len(sample_points)\n",
    "for indx, n in enumerate(sample_points):\n",
    "    if n == n_d:\n",
    "        d_n[indx] = 1\n",
    "   \n",
    "%matplotlib inline\n",
    "plt.stem(sample_points, d_n, use_line_collection=True)\n",
    "plt.ylim([-1.5, 1.5])\n",
    "plt.xlabel(r'$n$', fontsize=20)\n",
    "plt.ylabel(r'$\\delta[n-2]$', fontsize=20)\n",
    "plt.grid(True)"
   ]
  },
  {
   "cell_type": "code",
   "execution_count": null,
   "metadata": {},
   "outputs": [],
   "source": [
    "import numpy as np\n",
    "import matplotlib.pyplot as plt\n",
    "def unit_sample(sample_points):\n",
    "    signal = []\n",
    "    for n in sample_points:\n",
    "        if n == 0:\n",
    "            signal.append(1)\n",
    "        else:\n",
    "            signal.append(0)\n",
    "    return np.array(signal)\n",
    "\n",
    "def unit_step(sample_points):\n",
    "    signal = []\n",
    "    for n in sample_points:\n",
    "        if n >= 0:\n",
    "            signal.append(1)\n",
    "        else:\n",
    "            signal.append(0)\n",
    "    return np.array(signal)"
   ]
  },
  {
   "cell_type": "code",
   "execution_count": null,
   "metadata": {},
   "outputs": [],
   "source": [
    "n = np.arange(-5,6) # we consider -5 < n < 5\n",
    "plt.stem(n, \n",
    "         unit_sample(-n), \n",
    "         use_line_collection=True)\n",
    "plt.ylim([-1.5, 1.5])\n",
    "plt.xlabel(r'$n$', fontsize=20)\n",
    "plt.grid(True)"
   ]
  },
  {
   "cell_type": "code",
   "execution_count": null,
   "metadata": {},
   "outputs": [],
   "source": [
    "n = np.arange(-10,11) # we consider -10 < n < 10\n",
    "\n",
    "plt.stem(n, \n",
    "         unit_step(n) - unit_step(n - 5), \n",
    "         use_line_collection=True)\n",
    "\n",
    "plt.xlabel(r'$n$', fontsize=20)\n",
    "plt.xticks(n, n)\n",
    "plt.grid(True)"
   ]
  },
  {
   "cell_type": "code",
   "execution_count": null,
   "metadata": {},
   "outputs": [],
   "source": [
    "plt.stem(n, \n",
    "         unit_step(-n + 5), \n",
    "         use_line_collection=True)\n",
    "\n",
    "plt.xlabel(r'$n$', fontsize=20)\n",
    "plt.xticks(n, n)\n",
    "plt.grid(True)"
   ]
  },
  {
   "cell_type": "markdown",
   "metadata": {},
   "source": [
    "$u[-n+5]$\n",
    "\n",
    "$-n+5\\geq 0$\n",
    "\n",
    "$n \\leq 5$"
   ]
  },
  {
   "cell_type": "code",
   "execution_count": null,
   "metadata": {},
   "outputs": [],
   "source": [
    "def x(sample_points):\n",
    "    signal = []\n",
    "    for n in sample_points:\n",
    "        if n == -1:\n",
    "            signal.append(2)\n",
    "        elif n == 0:\n",
    "            signal.append(-3)\n",
    "        elif n == 3:\n",
    "            signal.append(1)\n",
    "        else:\n",
    "            signal.append(0)\n",
    "    return np.array(signal)\n",
    "    "
   ]
  },
  {
   "cell_type": "code",
   "execution_count": null,
   "metadata": {},
   "outputs": [],
   "source": [
    "n = np.arange(-4,5) # we consider -10 < n < 10\n",
    "plt.figure()\n",
    "plt.stem(n, \n",
    "         x(n), \n",
    "         use_line_collection=True)\n",
    "\n",
    "plt.xlabel(r'$n$', fontsize=20)\n",
    "plt.xticks(n, n)\n",
    "plt.grid(True)\n",
    "\n",
    "plt.figure()\n",
    "plt.stem(n, \n",
    "         (2 * unit_sample(n + 1) \n",
    "          - 3 * unit_sample(n) \n",
    "          + unit_sample(n - 3)), \n",
    "         use_line_collection=True)\n",
    "\n",
    "plt.xlabel(r'$n$', fontsize=20)\n",
    "plt.xticks(n, n)\n",
    "plt.grid(True)\n",
    "\n"
   ]
  },
  {
   "cell_type": "code",
   "execution_count": null,
   "metadata": {},
   "outputs": [],
   "source": [
    "# We can implement a delay using a filter. \n",
    "# This will be discussed in future lectures\n",
    "from scipy import signal\n",
    "\n",
    "#filter to delay by 2 samples\n",
    "b = np.array([0., 0., 1.])\n",
    "a = np.array([1.])\n",
    "\n",
    "# form input sequence\n",
    "# unit sample\n",
    "sample_points = np.arange(-5,6) # we consider -5 < n < 5\n",
    "x_n = [0] * len(sample_points)\n",
    "for indx, n in enumerate(sample_points):\n",
    "    if n == 0:\n",
    "        x_n[indx] = 1\n",
    "\n",
    "y_n = signal.lfilter(b, a, x_n)\n",
    "\n",
    "plt.stem(sample_points,\n",
    "         x_n,\n",
    "         linefmt='C0-',\n",
    "         markerfmt='C0o',\n",
    "         use_line_collection=True)\n",
    "plt.stem(sample_points,\n",
    "         y_n,\n",
    "         linefmt='C1-',\n",
    "         markerfmt='C1o',\n",
    "         use_line_collection=True)\n",
    "plt.ylim([-.1, 1.1])\n",
    "plt.legend([r'$\\delta[n]$', r'$\\delta[n-2]$'])\n",
    "plt.xlabel(r'$n$', fontsize=20)\n",
    "plt.grid(True)"
   ]
  },
  {
   "cell_type": "code",
   "execution_count": null,
   "metadata": {},
   "outputs": [],
   "source": []
  },
  {
   "cell_type": "code",
   "execution_count": null,
   "metadata": {},
   "outputs": [],
   "source": []
  },
  {
   "cell_type": "code",
   "execution_count": null,
   "metadata": {},
   "outputs": [],
   "source": []
  }
 ],
 "metadata": {
  "kernelspec": {
   "display_name": "Python 3",
   "language": "python",
   "name": "python3"
  },
  "language_info": {
   "codemirror_mode": {
    "name": "ipython",
    "version": 3
   },
   "file_extension": ".py",
   "mimetype": "text/x-python",
   "name": "python",
   "nbconvert_exporter": "python",
   "pygments_lexer": "ipython3",
   "version": "3.7.3"
  }
 },
 "nbformat": 4,
 "nbformat_minor": 2
}
