{
 "cells": [
  {
   "cell_type": "markdown",
   "metadata": {},
   "source": [
    "## Convolution\n",
    "The response of an LTI system to an input $x[n]$ is given by the convolution sum\n",
    "\n",
    " \\begin{equation}\n",
    "y[n]=\\sum_{k=-\\infty}^{k=\\infty}x[k]h[n-k]\n",
    "\\end{equation}\n",
    "\n",
    "## Example\n",
    "\n",
    "A discrete time LTI system has an impulse response given by\n",
    "\\begin{equation}\n",
    "h[n]=\\left\\{ \\begin{array}{ll}\n",
    "2 & \\textrm{ $n= -1$}\\\\\n",
    "3 & \\textrm{$n= 0$}\\\\\n",
    "2& \\textrm{$n=1$}\\\\\n",
    "-3&\\textrm{$n=2$}\\\\\n",
    "1&\\textrm{$n=3$}\\\\\n",
    "0&\\textrm{otherwise}\n",
    "\\end{array} \\right.\n",
    "\\end{equation}\n",
    "\n",
    "1. Sketch $h[n]$ in the interval $-5\\leq n \\leq 5$.\n",
    "1. Compute the output of the system $y[n]$ when the input to the system is $x[n]=2\\delta[n]-5\\delta[n-3]$.\n"
   ]
  },
  {
   "cell_type": "code",
   "execution_count": null,
   "metadata": {},
   "outputs": [],
   "source": [
    "import numpy as np\n",
    "import matplotlib.pyplot as plt\n",
    "\n",
    "def h(sample_points):\n",
    "    signal = []\n",
    "    for n in sample_points:\n",
    "        if n == -1:\n",
    "            signal.append(2)\n",
    "        elif n == 0:\n",
    "            signal.append(3)        \n",
    "        elif n == 1:\n",
    "            signal.append(2)\n",
    "        elif n == 2:\n",
    "            signal.append(-3)\n",
    "        elif n == 3:\n",
    "            signal.append(1)\n",
    "        else:\n",
    "            signal.append(0)\n",
    "    return np.array(signal)"
   ]
  },
  {
   "cell_type": "code",
   "execution_count": null,
   "metadata": {},
   "outputs": [],
   "source": [
    "n = np.arange(-5,6) # we consider -10 < n < 10\n",
    "plt.figure()\n",
    "plt.stem(n, \n",
    "         h(n), \n",
    "         use_line_collection=True)\n",
    "\n",
    "plt.xlabel(r'$n$', fontsize=20)\n",
    "plt.xticks(n, n)\n",
    "plt.grid(True)"
   ]
  },
  {
   "cell_type": "markdown",
   "metadata": {},
   "source": [
    "$y[n] = 2h[n] - 5h[n - 3]$"
   ]
  },
  {
   "cell_type": "code",
   "execution_count": null,
   "metadata": {},
   "outputs": [],
   "source": [
    "n = np.arange(-9,10) # we consider -10 < n < 10\n",
    "plt.figure()\n",
    "plt.stem(n, \n",
    "         2 * h(n) -5 * h(n-3), \n",
    "         use_line_collection=True)\n",
    "\n",
    "plt.xlabel(r'$n$', fontsize=20)\n",
    "plt.xticks(n, n)\n",
    "plt.grid(True)"
   ]
  },
  {
   "cell_type": "markdown",
   "metadata": {},
   "source": [
    "### Example\n",
    "Consider an LTI system with impulse response $h[n]=u[n]-u[n-N]$ where $N=5$. Find the output of the system in response to the input\n",
    "$x[n]=u[n]-u[n-N]$."
   ]
  },
  {
   "cell_type": "code",
   "execution_count": null,
   "metadata": {},
   "outputs": [],
   "source": [
    "def unit_step(sample_points):\n",
    "    signal = []\n",
    "    for n in sample_points:\n",
    "        if n >= 0:\n",
    "            signal.append(1)\n",
    "        else:\n",
    "            signal.append(0)\n",
    "    return np.array(signal)\n",
    "\n",
    "def x(n, N):\n",
    "    return unit_step(n) - unit_step(n - N)\n",
    "\n",
    "def h(n, N):\n",
    "    return unit_step(n) - unit_step(n - N)"
   ]
  },
  {
   "cell_type": "code",
   "execution_count": null,
   "metadata": {},
   "outputs": [],
   "source": [
    "%matplotlib inline\n",
    "n = np.arange(-10,11) # we consider -10 < n < 10\n",
    "N = 5\n",
    "plt.stem(n, \n",
    "         h(n, N), \n",
    "         use_line_collection=True)\n",
    "plt.ylim([-.1, 1.5])\n",
    "plt.xlabel(r'$n$', fontsize=20)\n",
    "plt.ylabel(r'$h[n]$', fontsize=20)\n",
    "plt.grid(True)"
   ]
  },
  {
   "cell_type": "markdown",
   "metadata": {},
   "source": [
    "To compute the convolution, we evaluate $x[k]$ and $h[n-k]$ for all values of $n$\n",
    "\n",
    "For $n = 0$ we compute\n",
    "\\begin{equation}\n",
    "y[n]=\\sum_{k=-\\infty}^{k=\\infty}x[k]h[-k]\n",
    "\\end{equation}"
   ]
  },
  {
   "cell_type": "code",
   "execution_count": null,
   "metadata": {},
   "outputs": [],
   "source": [
    "%matplotlib inline\n",
    "k = np.arange(-10,11) # we consider -10 < k < 10\n",
    "N = 5\n",
    "plt.stem(k, \n",
    "         x(k, N), \n",
    "         use_line_collection=True)\n",
    "plt.ylim([-.1, 1.1])\n",
    "plt.xlabel(r'$k$', fontsize=20)\n",
    "plt.ylabel(r'$x[k]$', fontsize=20)\n",
    "plt.grid(True)\n",
    "\n",
    "plt.figure()\n",
    "plt.stem(k, \n",
    "         h(-k, N), \n",
    "         use_line_collection=True)\n",
    "plt.ylim([-.1, 1.1])\n",
    "plt.xlabel(r'$k$', fontsize=20)\n",
    "plt.ylabel(r'$h[-k]$', fontsize=20)\n",
    "plt.grid(True)\n",
    "\n",
    "plt.figure()\n",
    "plt.stem(k, \n",
    "         x(k, N) * h(-k, N), \n",
    "         use_line_collection=True)\n",
    "plt.ylim([-.1, 1.1])\n",
    "plt.xlabel(r'$k$', fontsize=20)\n",
    "plt.ylabel(r'$x[k]h[-k]$', fontsize=20)\n",
    "plt.grid(True)"
   ]
  },
  {
   "cell_type": "markdown",
   "metadata": {},
   "source": [
    "For a general value of $n$, let\n",
    "\n",
    "$h_1[k]=h[-k]$\n",
    "\n",
    "$h_1[k-n] = h[-(k-n)] = h[n-k]$"
   ]
  },
  {
   "cell_type": "code",
   "execution_count": null,
   "metadata": {},
   "outputs": [],
   "source": [
    "def h1(n, N):\n",
    "    return h(-n, N)"
   ]
  },
  {
   "cell_type": "code",
   "execution_count": null,
   "metadata": {},
   "outputs": [],
   "source": [
    "plt.figure()\n",
    "plt.stem(k, \n",
    "         h1(k, N), \n",
    "         use_line_collection=True)\n",
    "plt.ylim([-1.5, 1.5])\n",
    "plt.xlabel(r'$k$', fontsize=20)\n",
    "plt.ylabel(r'$h_1[k]$', fontsize=20)\n",
    "plt.grid(True)"
   ]
  },
  {
   "cell_type": "markdown",
   "metadata": {},
   "source": [
    "For $n<0$ we have"
   ]
  },
  {
   "cell_type": "code",
   "execution_count": null,
   "metadata": {},
   "outputs": [],
   "source": [
    "n = -5\n",
    "\n",
    "plt.figure()\n",
    "plt.stem(k, \n",
    "         h1(k - n, N), \n",
    "         use_line_collection=True)\n",
    "plt.ylim([-1.5, 1.5])\n",
    "plt.xlabel(r'$k$', fontsize=20)\n",
    "plt.ylabel(r'$h_1[k - n] = h[n-k]$', fontsize=20)\n",
    "plt.grid(True)\n",
    "\n",
    "\n",
    "plt.figure()\n",
    "plt.stem(k, \n",
    "         x(k, N) * h1(k - n, N), \n",
    "         use_line_collection=True)\n",
    "plt.ylim([-.1, 1.1])\n",
    "plt.xlabel(r'$k$', fontsize=20)\n",
    "plt.ylabel(r'$x[k]h[n-k]$', fontsize=20)\n",
    "plt.grid(True)"
   ]
  },
  {
   "cell_type": "markdown",
   "metadata": {},
   "source": [
    "For $n>0$ we have"
   ]
  },
  {
   "cell_type": "code",
   "execution_count": null,
   "metadata": {},
   "outputs": [],
   "source": [
    "n = 9\n",
    "plt.stem(k, \n",
    "         x(k, N), \n",
    "         use_line_collection=True)\n",
    "plt.ylim([-.1, 1.1])\n",
    "plt.xlabel(r'$k$', fontsize=20)\n",
    "plt.ylabel(r'$x[k]$', fontsize=20)\n",
    "plt.grid(True)\n",
    "\n",
    "plt.figure()\n",
    "plt.stem(k, \n",
    "         h1(k - n, N), \n",
    "         use_line_collection=True)\n",
    "plt.ylim([-.1, 1.1])\n",
    "plt.xlabel(r'$k$', fontsize=20)\n",
    "plt.ylabel(r'$h[n-k]$', fontsize=20)\n",
    "plt.grid(True)\n",
    "\n",
    "plt.figure()\n",
    "plt.stem(k, \n",
    "         x(k, N) *h1(k - n, N), \n",
    "         use_line_collection=True)\n",
    "plt.ylim([-.1, 1.1])\n",
    "plt.xlabel(r'$k$', fontsize=20)\n",
    "plt.ylabel(r'$x[k]h[n-k]$', fontsize=20)\n",
    "plt.grid(True)"
   ]
  },
  {
   "cell_type": "code",
   "execution_count": null,
   "metadata": {},
   "outputs": [],
   "source": [
    "n = np.arange(-5,16) # we consider -5 < n < 15\n",
    "yn = []\n",
    "\n",
    "for indx in n:\n",
    "    yn.append(sum(x(k, N) *h1(k - indx, N)))\n",
    "    \n",
    "plt.figure()\n",
    "plt.stem(n, \n",
    "         yn, \n",
    "         use_line_collection=True)\n",
    "\n",
    "plt.xlabel(r'$n$', fontsize=20)\n",
    "plt.ylabel(r'$y[n]$', fontsize=20)\n",
    "plt.xticks(n, n)\n",
    "plt.grid(True)"
   ]
  },
  {
   "cell_type": "code",
   "execution_count": null,
   "metadata": {},
   "outputs": [],
   "source": []
  }
 ],
 "metadata": {
  "kernelspec": {
   "display_name": "Python 3",
   "language": "python",
   "name": "python3"
  },
  "language_info": {
   "codemirror_mode": {
    "name": "ipython",
    "version": 3
   },
   "file_extension": ".py",
   "mimetype": "text/x-python",
   "name": "python",
   "nbconvert_exporter": "python",
   "pygments_lexer": "ipython3",
   "version": "3.7.3"
  }
 },
 "nbformat": 4,
 "nbformat_minor": 2
}
