{
 "cells": [
  {
   "cell_type": "markdown",
   "metadata": {},
   "source": [
    "# Frequency Response\n",
    "The frequency response of a linear time invariant system is given by the Fourier transform of its impulse response. We have\n",
    "\n",
    "$H(e^{j\\omega})=\\sum_{n=-\\infty}^\\infty h[n]e^{-j\\omega n}$\n",
    "\n",
    "\n",
    "## Example \n",
    "\n",
    "Consider the LTI system whose impulse response is given by\n",
    "\n",
    "$h[n]=\\left\\{ \\begin{array}{ll}\n",
    "1 & \\textrm{ $n= 0$}\\\\\n",
    "-0.9 & \\textrm{$n= 1$}\\\\\n",
    "0&\\textrm{otherwise}\n",
    "\\end{array} \\right.$\n",
    "\n",
    "Compute the frequency response\n",
    "\n",
    "<details>\n",
    "  <summary>We have</summary>\n",
    "    \n",
    "\\begin{equation}\n",
    "H(e^{j\\omega})=1-0.9e^{-j\\omega}\n",
    "\\end{equation}\n",
    " \n",
    " \n",
    "</details>\n",
    "\n",
    "\n",
    "\n",
    "\n",
    "\n",
    "We use the `scipy` package to plot this frequency response."
   ]
  },
  {
   "cell_type": "code",
   "execution_count": null,
   "metadata": {},
   "outputs": [],
   "source": [
    "import numpy as np\n",
    "import matplotlib.pyplot as plt\n",
    "\n",
    "from scipy import signal\n",
    "\n",
    "%matplotlib inline\n",
    "w, h = signal.freqz([1, -0.9])\n",
    "plt.plot(w, 20 * np.log10(abs(h)), 'b')\n",
    "plt.ylabel('Amplitude [dB]')\n",
    "plt.xlabel('Frequency [rad/sample]')\n",
    "plt.xlim([0, np.pi])\n",
    "plt.grid()"
   ]
  },
  {
   "cell_type": "markdown",
   "metadata": {},
   "source": [
    "From the reponse, we see that this is a high pass filter. It is used in speech system as a pre-emphasis filter to enhance high frequency content. It will also attenuate low frequency noise\n",
    "\n",
    "\n",
    "## Moving Average Filter\n",
    "\n",
    "The moving average system defined by the following equation\n",
    "\\begin{equation}\n",
    "y[n]=\\frac{1}{M_1+M2+1}\\sum_{k=-M_1}^{M_2}x[n-k]\n",
    "\\end{equation}\n",
    "\n",
    "We will explore its frequency response. We find that the impulse response is given by\n",
    "\n",
    "$h[n]=\\left\\{ \\begin{array}{ll}\n",
    "\\frac{1}{M1 + M2 + 1} & \\textrm{ $-M1\\leq n \\leq M2$}\\\\\n",
    "0&\\textrm{otherwise}\n",
    "\\end{array} \\right.$\n",
    "\n",
    "Consider the case $M1 = 0$, $M2 = 1$\n",
    "\n",
    "$h[n]=\\left\\{ \\begin{array}{ll}\n",
    "\\frac{1}{2} & \\textrm{ $n= 0,1$}\\\\\n",
    "0&\\textrm{otherwise}\n",
    "\\end{array} \\right.$\n",
    "\n",
    "Compute the frequency response\n",
    "\n",
    "<details>\n",
    "  <summary>We have</summary>\n",
    "    \n",
    "\\begin{equation}\n",
    "H(e^{j\\omega})=0.5+0.5e^{-j\\omega}\n",
    "\\end{equation}\n",
    "</details>\n",
    "\n",
    "\n",
    "<details>\n",
    "  <summary>We can write</summary>\n",
    "    \n",
    "\\begin{eqnarray*}\n",
    "H(e^{j\\omega})&=&0.5e^{-j\\omega/2}(e^{j\\omega/2}+e^{-j\\omega/2})\\\\\n",
    "&=&e^{-j\\omega/2}\\cos(\\omega/2)\n",
    "\\end{eqnarray*}\n",
    "</details>"
   ]
  },
  {
   "cell_type": "code",
   "execution_count": null,
   "metadata": {},
   "outputs": [],
   "source": [
    "# plot of frequency response\n",
    "%matplotlib inline\n",
    "w, h = signal.freqz([.5, 0.5])\n",
    "plt.plot(w, abs(h), 'b')\n",
    "plt.ylabel('Amplitude')\n",
    "plt.xlabel('Frequency [rad/sample]')\n",
    "plt.xlim([0, np.pi])\n",
    "plt.grid()"
   ]
  },
  {
   "cell_type": "code",
   "execution_count": null,
   "metadata": {},
   "outputs": [],
   "source": [
    "# For larger values of M2 with M1 = 0\n",
    "M2 = 7\n",
    "w, h = signal.freqz((1 / (M2 + 1)) * np.ones(M2 + 1))\n",
    "plt.plot(w, abs(h), 'b')\n",
    "plt.ylabel('Amplitude [dB]')\n",
    "plt.xlabel('Frequency [rad/sample]')\n",
    "plt.xlim([0, np.pi])\n",
    "plt.grid()"
   ]
  },
  {
   "cell_type": "markdown",
   "metadata": {},
   "source": [
    "## Speech Processing Example\n",
    "\n",
    "We will load a small speech sample of the word \"moja\" recorded in a noisy environment and filter it to observe the effects of the pre-emphasis filter"
   ]
  },
  {
   "cell_type": "code",
   "execution_count": null,
   "metadata": {},
   "outputs": [],
   "source": [
    "import librosa\n",
    "\n",
    "# load the file\n",
    "sig, fs = librosa.core.load('../data/moja_fan.wav')\n"
   ]
  },
  {
   "cell_type": "markdown",
   "metadata": {},
   "source": [
    "We plot the frequency spectrum of the signal and observe the low frequency content."
   ]
  },
  {
   "cell_type": "code",
   "execution_count": null,
   "metadata": {},
   "outputs": [],
   "source": [
    "%matplotlib inline\n",
    "w, h = signal.freqz(sig)\n",
    "plt.plot(w, 20 * np.log10(abs(h)), 'b')\n",
    "plt.ylabel('Amplitude [dB]')\n",
    "plt.xlabel('Frequency [rad/sample]')\n",
    "plt.xlim([0, np.pi])\n",
    "plt.grid()"
   ]
  },
  {
   "cell_type": "markdown",
   "metadata": {},
   "source": [
    "Now filter the signal and plot the new spectrum. "
   ]
  },
  {
   "cell_type": "code",
   "execution_count": null,
   "metadata": {},
   "outputs": [],
   "source": [
    "sig_filtered = np.convolve(sig, [1, -0.9])\n",
    "librosa.output.write_wav('../data/filtered.wav', sig_filtered, fs, norm=True) \n",
    "\n",
    "%matplotlib inline\n",
    "w, h = signal.freqz(sig_filtered)\n",
    "plt.plot(w, 20 * np.log10(abs(h)), 'b')\n",
    "plt.ylabel('Amplitude [dB]')\n",
    "plt.xlabel('Frequency [rad/sample]')\n",
    "plt.xlim([0, np.pi])\n",
    "plt.grid()"
   ]
  },
  {
   "cell_type": "code",
   "execution_count": null,
   "metadata": {},
   "outputs": [],
   "source": []
  }
 ],
 "metadata": {
  "kernelspec": {
   "display_name": "Python 3",
   "language": "python",
   "name": "python3"
  },
  "language_info": {
   "codemirror_mode": {
    "name": "ipython",
    "version": 3
   },
   "file_extension": ".py",
   "mimetype": "text/x-python",
   "name": "python",
   "nbconvert_exporter": "python",
   "pygments_lexer": "ipython3",
   "version": "3.7.3"
  }
 },
 "nbformat": 4,
 "nbformat_minor": 2
}
