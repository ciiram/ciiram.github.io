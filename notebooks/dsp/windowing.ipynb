{
 "cells": [
  {
   "cell_type": "markdown",
   "metadata": {},
   "source": [
    "### Windowing\n"
   ]
  },
  {
   "cell_type": "markdown",
   "metadata": {},
   "source": [
    "Consider the low pass filter whose frequency response  is given by\n",
    "\\begin{equation}\n",
    "H(e^{j\\omega})=\\left\\{ \\begin{array}{ll}\n",
    "1 & \\textrm{ $|\\omega|<\\omega_c$}\\\\\n",
    "0&\\textrm{$\\omega_c<|\\omega|\\leq\\pi $}\n",
    "\\end{array} \\right.\n",
    "\\end{equation}\n",
    "\n",
    "We determine $h_{lp}[n]$ via the inverse Fourier transform. \n",
    "\n",
    "We truncate this impulse response to lie within the interval $-M\\leq n\\leq M$ and observe the magnitude response."
   ]
  },
  {
   "cell_type": "code",
   "execution_count": null,
   "metadata": {},
   "outputs": [],
   "source": [
    "import lpf\n",
    "import numpy as np\n",
    "import matplotlib.pyplot as plt\n",
    "\n",
    "from scipy import signal\n",
    "\n",
    "omega_c = np.pi / 8\n",
    "M = 3\n",
    "\n",
    "h_lp = lpf.hlp(M, omega_c)\n",
    "\n",
    "# plot the frequency response\n",
    "\n",
    "w, h = signal.freqz(h_lp)\n",
    "plt.plot(w, abs(h), 'b')\n",
    "plt.axvline(omega_c, c='r')"
   ]
  },
  {
   "cell_type": "code",
   "execution_count": null,
   "metadata": {},
   "outputs": [],
   "source": [
    "signal.freqz?"
   ]
  },
  {
   "cell_type": "code",
   "execution_count": null,
   "metadata": {},
   "outputs": [],
   "source": [
    "%matplotlib inline\n",
    "sample_points = np.arange(-M, M + 1)\n",
    "plt.stem(sample_points, h_lp, use_line_collection=True)\n",
    "plt.ylim([-.1, .2])\n",
    "plt.xlabel(r'$n$', fontsize=20)\n",
    "plt.ylabel(r'$h_{lp}[n]$', fontsize=20)\n",
    "plt.grid(True)"
   ]
  },
  {
   "cell_type": "code",
   "execution_count": null,
   "metadata": {},
   "outputs": [],
   "source": []
  }
 ],
 "metadata": {
  "kernelspec": {
   "display_name": "Python 3",
   "language": "python",
   "name": "python3"
  },
  "language_info": {
   "codemirror_mode": {
    "name": "ipython",
    "version": 3
   },
   "file_extension": ".py",
   "mimetype": "text/x-python",
   "name": "python",
   "nbconvert_exporter": "python",
   "pygments_lexer": "ipython3",
   "version": "3.7.3"
  }
 },
 "nbformat": 4,
 "nbformat_minor": 2
}
