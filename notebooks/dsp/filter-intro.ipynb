{
 "cells": [
  {
   "cell_type": "code",
   "execution_count": null,
   "metadata": {},
   "outputs": [],
   "source": [
    "# We can implement an accumulator using a filter. \n",
    "# This will be discussed in future lectures\n",
    "import numpy as np\n",
    "import matplotlib.pyplot as plt\n",
    "from scipy import signal\n",
    "\n",
    "#accumulator filter\n",
    "b = np.array([1])\n",
    "a = np.array([1., -1])"
   ]
  },
  {
   "cell_type": "code",
   "execution_count": null,
   "metadata": {},
   "outputs": [],
   "source": [
    "def unit_step(sample_points):\n",
    "    signal = []\n",
    "    for n in sample_points:\n",
    "        if n >= 0:\n",
    "            signal.append(1)\n",
    "        else:\n",
    "            signal.append(0)\n",
    "    return np.array(signal)\n",
    "\n",
    "def unit_sample(sample_points):\n",
    "    signal = []\n",
    "    for n in sample_points:\n",
    "        if n == 0:\n",
    "            signal.append(1)\n",
    "        else:\n",
    "            signal.append(0)\n",
    "    return np.array(signal)"
   ]
  },
  {
   "cell_type": "code",
   "execution_count": null,
   "metadata": {},
   "outputs": [],
   "source": [
    "%matplotlib inline\n",
    "n = np.arange(-5,6) # we consider -5 < n < 5\n",
    "plt.stem(n, \n",
    "         unit_sample(n), \n",
    "         use_line_collection=True)\n",
    "plt.ylim([-1.5, 1.5])\n",
    "plt.xlabel(r'$n$', fontsize=20)\n",
    "plt.grid(True)"
   ]
  },
  {
   "cell_type": "code",
   "execution_count": null,
   "metadata": {},
   "outputs": [],
   "source": [
    "x_n = unit_step(n)\n",
    "y_n = signal.lfilter(b, a, x_n)\n",
    "plt.stem(n, \n",
    "         y_n, \n",
    "         use_line_collection=True)\n",
    "plt.xlabel(r'$n$', fontsize=20)\n",
    "plt.grid(True)"
   ]
  },
  {
   "cell_type": "code",
   "execution_count": null,
   "metadata": {},
   "outputs": [],
   "source": []
  },
  {
   "cell_type": "code",
   "execution_count": null,
   "metadata": {},
   "outputs": [],
   "source": []
  },
  {
   "cell_type": "code",
   "execution_count": null,
   "metadata": {},
   "outputs": [],
   "source": []
  }
 ],
 "metadata": {
  "kernelspec": {
   "display_name": "Python 3",
   "language": "python",
   "name": "python3"
  },
  "language_info": {
   "codemirror_mode": {
    "name": "ipython",
    "version": 3
   },
   "file_extension": ".py",
   "mimetype": "text/x-python",
   "name": "python",
   "nbconvert_exporter": "python",
   "pygments_lexer": "ipython3",
   "version": "3.7.3"
  }
 },
 "nbformat": 4,
 "nbformat_minor": 2
}
