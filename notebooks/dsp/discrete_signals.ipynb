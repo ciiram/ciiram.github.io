{
 "cells": [
  {
   "cell_type": "markdown",
   "metadata": {},
   "source": [
    "### Discrete time signals\n",
    "\n",
    "Let us simulate a continuous signal corresponiding to $x(t) = \\sin(2\\pi t)$ and sample it at regular intervals to create a discrete time signal."
   ]
  },
  {
   "cell_type": "code",
   "execution_count": null,
   "metadata": {},
   "outputs": [],
   "source": [
    "import numpy as np\n",
    "import matplotlib.pyplot as plt\n",
    "\n",
    "t = np.linspace(-2, 2, 1000)\n",
    "\n",
    "%matplotlib inline\n",
    "plt.figure()\n",
    "plt.plot(t, np.sin(2 * np.pi * t))\n",
    "plt.xlabel('t', fontsize=20)\n",
    "plt.ylabel(r'$x(t)$', fontsize=20)\n",
    "plt.grid(True)\n",
    "#plt.savefig('../figures/sine.jpg')"
   ]
  },
  {
   "cell_type": "markdown",
   "metadata": {},
   "source": [
    "We now sample the continuous signal at a sampling period of $T_s = \\frac{1}{8}$"
   ]
  },
  {
   "cell_type": "code",
   "execution_count": null,
   "metadata": {},
   "outputs": [],
   "source": [
    "Ts = 1 / 16\n",
    "n = np.arange(-5,6) # we consider -5 < n < 5\n",
    "sampling_times = n * Ts\n",
    "\n",
    "\n",
    "plt.stem(n, \n",
    "         np.sin(2 * np.pi * sampling_times), \n",
    "         use_line_collection=True)\n",
    "plt.xlabel(r'$n$', fontsize=20)\n",
    "plt.ylabel(r'$x[n]$', fontsize=20)\n",
    "plt.xticks(n[::2], n[::2])\n",
    "plt.ylim([-1.5, 1.5])\n",
    "plt.xlim(-5.2, 5.2)\n",
    "plt.grid(True)\n",
    "#plt.savefig('../figures/sample-sine.jpg')"
   ]
  },
  {
   "cell_type": "markdown",
   "metadata": {},
   "source": [
    "## Speech example\n",
    "Speech is a very common discrete signal. Often audio is recorded as '.wav' or '.mp3' files. The audio file is a sequence of samples obtained from sampling the continuous time speech signal.\n",
    "\n",
    "Here we will obtain the samples of a speech signal and plot them."
   ]
  },
  {
   "cell_type": "code",
   "execution_count": null,
   "metadata": {},
   "outputs": [],
   "source": [
    "from scipy.io import wavfile\n",
    "\n",
    "sr, signal = wavfile.read('yes.wav', mmap=False)"
   ]
  },
  {
   "cell_type": "code",
   "execution_count": null,
   "metadata": {},
   "outputs": [],
   "source": [
    "# Get the sampling rate and display first few samples\n",
    "print(sr)\n",
    "print(signal[:10])"
   ]
  },
  {
   "cell_type": "code",
   "execution_count": null,
   "metadata": {},
   "outputs": [],
   "source": [
    "#Get the period in seconds\n",
    "print(1 / sr)"
   ]
  },
  {
   "cell_type": "code",
   "execution_count": null,
   "metadata": {},
   "outputs": [],
   "source": [
    "# Obtain a short segment 32ms long \n",
    "# and plot a stem plot\n",
    "\n",
    "# Number of samples in Tms\n",
    "T = 1\n",
    "Nsamp = int(sr * T * 1e-3)\n",
    "len(signal[:Nsamp])\n",
    "\n",
    "plt.stem(range(Nsamp), \n",
    "         signal[:Nsamp] / np.abs(signal[:Nsamp]).max(), \n",
    "         use_line_collection=True)\n",
    "plt.xlabel(r'$n$', fontsize=20)\n",
    "plt.ylabel(r'$x[n]$', fontsize=20)\n",
    "#plt.xticks(n[::2], n[::2])\n",
    "plt.ylim([-1.5, 1.5])\n",
    "plt.grid(True)"
   ]
  },
  {
   "cell_type": "markdown",
   "metadata": {},
   "source": [
    "## Basic sequences\n"
   ]
  },
  {
   "cell_type": "code",
   "execution_count": null,
   "metadata": {},
   "outputs": [],
   "source": [
    "Nsamp"
   ]
  },
  {
   "cell_type": "code",
   "execution_count": null,
   "metadata": {},
   "outputs": [],
   "source": [
    "# unit sample\n",
    "sample_points = np.arange(-5,6) # we consider -5 < n < 5\n",
    "d_n = [0] * len(sample_points)\n",
    "for indx, n in enumerate(sample_points):\n",
    "    if n == 0:\n",
    "        d_n[indx] = 1\n",
    "        \n",
    "plt.stem(sample_points, d_n, use_line_collection=True)\n",
    "plt.ylim([-1.5, 1.5])\n",
    "plt.xlabel(r'$n$', fontsize=20)\n",
    "plt.ylabel(r'$\\delta[n]$', fontsize=20)\n",
    "plt.grid(True)\n",
    "#plt.savefig('../figures/unit-sample.jpg')"
   ]
  },
  {
   "cell_type": "code",
   "execution_count": null,
   "metadata": {},
   "outputs": [],
   "source": [
    "# unit step\n",
    "u_n = [0] * len(sample_points)\n",
    "for indx, n in enumerate(sample_points):\n",
    "    if n >= 0:\n",
    "        u_n[indx] = 1\n",
    "        \n",
    "plt.stem(sample_points,  \n",
    "         -2 * np.array(u_n), \n",
    "         use_line_collection=True)\n",
    "#plt.ylim([-1.5, 1.5])\n",
    "plt.xlabel(r'$n$', fontsize=20)\n",
    "plt.ylabel(r'$u[n]$', fontsize=20)\n",
    "plt.grid(True)\n",
    "plt.savefig('../figures/unit-step.jpg')"
   ]
  },
  {
   "cell_type": "code",
   "execution_count": null,
   "metadata": {},
   "outputs": [],
   "source": [
    "# unit ramp\n",
    "r_n = [0] * len(sample_points)\n",
    "for indx, n in enumerate(sample_points):\n",
    "    if n >= 0:\n",
    "        r_n[indx] = n\n",
    "        \n",
    "plt.stem(sample_points, \n",
    "         np.array(r_n) + np.array(d_n),\n",
    "         use_line_collection=True)\n",
    "plt.xlabel(r'$n$', fontsize=20)\n",
    "plt.ylabel(r'$r[n]$', fontsize=20)\n",
    "plt.grid(True)\n",
    "#plt.savefig('../figures/unit-ramp.jpg')"
   ]
  },
  {
   "cell_type": "code",
   "execution_count": null,
   "metadata": {},
   "outputs": [],
   "source": [
    "# Exponential sequence\n",
    "A = 1\n",
    "alpha = 0.8\n",
    "plt.stem(sample_points, alpha ** sample_points, use_line_collection=True)\n",
    "plt.xlabel(r'$n$', fontsize=20)\n",
    "plt.ylabel(r'$x[n]$', fontsize=20)\n",
    "plt.title(r'$0.8^n$', fontsize=20)\n",
    "plt.grid(True)\n",
    "#plt.savefig('../figures/exp-1.jpg')"
   ]
  },
  {
   "cell_type": "markdown",
   "metadata": {},
   "source": [
    "$x[n] = \\cos(w_0n)$\n",
    "\n",
    "$w_0 = \\frac{\\pi}{4}, \\frac{\\pi}{2}, \\pi,  2\\pi, \\frac{9\\pi}{4}$"
   ]
  },
  {
   "cell_type": "code",
   "execution_count": null,
   "metadata": {},
   "outputs": [],
   "source": [
    "# sinusoidal sequence\n",
    "w_0 = ( np.pi) / 4 + 2 * np.pi\n",
    "plt.stem(sample_points, \n",
    "         np.cos(w_0 * sample_points), \n",
    "         use_line_collection=True)\n",
    "plt.xlabel(r'$n$', fontsize=20)\n",
    "plt.ylabel(r'$x[n]$', fontsize=20)\n",
    "#plt.title(r'$\\cos(\\pi/4 n)$', fontsize=20)\n",
    "plt.grid(True)\n",
    "#plt.savefig('../figures/sinu.jpg')"
   ]
  },
  {
   "cell_type": "code",
   "execution_count": null,
   "metadata": {},
   "outputs": [],
   "source": [
    "\n"
   ]
  },
  {
   "cell_type": "code",
   "execution_count": null,
   "metadata": {},
   "outputs": [],
   "source": []
  }
 ],
 "metadata": {
  "kernelspec": {
   "display_name": "Python 3",
   "language": "python",
   "name": "python3"
  },
  "language_info": {
   "codemirror_mode": {
    "name": "ipython",
    "version": 3
   },
   "file_extension": ".py",
   "mimetype": "text/x-python",
   "name": "python",
   "nbconvert_exporter": "python",
   "pygments_lexer": "ipython3",
   "version": "3.7.3"
  }
 },
 "nbformat": 4,
 "nbformat_minor": 2
}
