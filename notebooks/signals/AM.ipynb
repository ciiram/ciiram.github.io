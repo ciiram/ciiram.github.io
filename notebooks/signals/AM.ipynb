{
 "cells": [
  {
   "cell_type": "markdown",
   "metadata": {},
   "source": [
    "## Conventional AM\n",
    "The AM signal is given as\n",
    "\\begin{equation}\n",
    "s_{AM}(t)=A_c[1+k_am(t)]\\cos(2\\pi f_c t)\n",
    "\\end{equation}\n",
    "\n",
    "We will plot this signal for the case\n",
    "\n",
    "$m(t)= A_m\\cos(2\\pi f_m t)$"
   ]
  },
  {
   "cell_type": "code",
   "execution_count": null,
   "metadata": {},
   "outputs": [],
   "source": [
    "import numpy as np\n",
    "import matplotlib.pyplot as plt\n",
    "\n",
    "\n",
    "Ac = 1\n",
    "Am = 1\n",
    "ka = .5\n",
    "fm = 1\n",
    "fc = 10\n",
    "\n",
    "\n",
    "t = np.linspace(-1, 1, 1000)\n",
    "\n",
    "mt = Am * np.cos(2 * np.pi * fm * t)\n",
    "s_am = Ac * (1 + ka * mt) * np.cos(2 * np.pi * fc * t)"
   ]
  },
  {
   "cell_type": "markdown",
   "metadata": {},
   "source": [
    "## Visualise the AM signal\n",
    "\n",
    "We can visualise the AM signal and also see the *phase reversal* effect which occurs when $|k_am(t)| > 1$"
   ]
  },
  {
   "cell_type": "code",
   "execution_count": null,
   "metadata": {},
   "outputs": [],
   "source": [
    "%matplotlib inline\n",
    "plt.figure()\n",
    "plt.plot(t, s_am)\n",
    "plt.plot(t, Ac * (1 + ka * mt), 'r')\n",
    "plt.plot(t, -Ac * (1 + ka * mt), 'r')\n",
    "plt.xlabel('t', fontsize=20)\n",
    "plt.ylabel(r'$s_{AM}(t)$', fontsize=20)\n",
    "plt.grid(True)\n",
    "plt.xlim([-.75, 0.5])"
   ]
  },
  {
   "cell_type": "markdown",
   "metadata": {},
   "source": [
    "## Visualise the message"
   ]
  },
  {
   "cell_type": "code",
   "execution_count": null,
   "metadata": {},
   "outputs": [],
   "source": [
    "%matplotlib inline\n",
    "plt.figure()\n",
    "plt.plot(t, mt)\n",
    "plt.xlabel('t', fontsize=20)\n",
    "plt.ylabel(r'$m(t)$', fontsize=20)\n",
    "plt.grid(True)"
   ]
  },
  {
   "cell_type": "markdown",
   "metadata": {},
   "source": [
    "## Frequency spectrum\n",
    "\n",
    "The Fourier transform of the conventional AM signal is\n",
    "\n",
    "\\begin{eqnarray*}\n",
    "\\mathcal{F}\\{s_{AM}(t)\\}&=&\\mathcal{F}\\{A_c\\cos(2\\pi f_c t)\\} + \\mathcal{F}\\{k_am(t)\\cos(2\\pi f_c t)\\}\\\\\n",
    "&=&\\frac{A_c}{2}[\\delta(f-f_c)+\\delta(f+f_c)]+\\frac{k_aA_c}{2}[M(f-f_c)+M(f+f_c)]\n",
    "\\end{eqnarray*}"
   ]
  },
  {
   "cell_type": "markdown",
   "metadata": {},
   "source": [
    "In our case\n",
    "\\begin{equation}\n",
    "M(f) = \\frac{A_m}{2}[\\delta(f-f_m)+\\delta(f+f_m)]\n",
    "\\end{equation}\n",
    "\n",
    "$f_m = 1$\n",
    "\n",
    "The FFT is used to compute the frequency spectrum.\n",
    "\n",
    "Modify $f_m$ to values in the range $(0, 10)$ and see the change in position of the peak"
   ]
  },
  {
   "cell_type": "code",
   "execution_count": null,
   "metadata": {},
   "outputs": [],
   "source": [
    "nfft = 4096 * 2\n",
    "fs = 500\n",
    "\n",
    "\n",
    "plt.plot(np.arange(nfft//2 + 1) / nfft * fs, \n",
    "         np.abs(np.fft.fft(mt, nfft))[:nfft//2 + 1])\n",
    "plt.xlim([0, 10])\n",
    "plt.xlabel('f', fontsize=20)\n",
    "plt.ylabel(r'$M(f)$', fontsize=20);"
   ]
  },
  {
   "cell_type": "markdown",
   "metadata": {},
   "source": [
    "Visualise the spectrum of the modulated signal. Here we show the positive range only."
   ]
  },
  {
   "cell_type": "code",
   "execution_count": null,
   "metadata": {},
   "outputs": [],
   "source": [
    "nfft = 4096 * 2\n",
    "fs = 500\n",
    "\n",
    "\n",
    "plt.plot(np.arange(nfft//2 + 1) / nfft * fs, \n",
    "         np.abs(np.fft.fft(s_am, nfft))[:nfft//2 + 1])\n",
    "plt.xlim([0, 20])\n",
    "plt.xlabel('f', fontsize=20)\n",
    "plt.ylabel(r'$S_{AM}(f)$', fontsize=20);"
   ]
  },
  {
   "cell_type": "markdown",
   "metadata": {},
   "source": [
    "## Double side band suppressed carrier AM\n",
    "The DSB-SC AM signal is given by\n",
    "\\begin{equation}\n",
    "s(t)=A_c\\cos(2\\pi f_c t)m(t).\n",
    "\\end{equation} \n",
    "\n"
   ]
  },
  {
   "cell_type": "code",
   "execution_count": null,
   "metadata": {},
   "outputs": [],
   "source": [
    "st = mt * Ac * np.cos(2 * np.pi * fc * t)"
   ]
  },
  {
   "cell_type": "code",
   "execution_count": null,
   "metadata": {},
   "outputs": [],
   "source": [
    "%matplotlib inline\n",
    "plt.figure()\n",
    "plt.plot(t, st)\n",
    "plt.plot(t, mt, 'r')\n",
    "plt.plot(t, -mt, 'r')\n",
    "plt.xlabel('t', fontsize=20)\n",
    "plt.ylabel(r'$s(t)$', fontsize=20)\n",
    "plt.grid(True)\n",
    "#plt.xlim([-.75, 0.5])"
   ]
  },
  {
   "cell_type": "markdown",
   "metadata": {},
   "source": [
    "Visualise the spectrum and observe that the carrier is suppressed - no peak at $f_c$"
   ]
  },
  {
   "cell_type": "code",
   "execution_count": null,
   "metadata": {},
   "outputs": [],
   "source": [
    "nfft = 4096 * 2\n",
    "fs = 500\n",
    "\n",
    "\n",
    "plt.plot(np.arange(nfft//2 + 1) / nfft * fs, \n",
    "         np.abs(np.fft.fft(st, nfft))[:nfft//2 + 1])\n",
    "plt.xlim([0, 20])\n",
    "plt.xlabel('f', fontsize=20)\n",
    "plt.ylabel(r'$S(f)$', fontsize=20)"
   ]
  },
  {
   "cell_type": "code",
   "execution_count": null,
   "metadata": {},
   "outputs": [],
   "source": []
  }
 ],
 "metadata": {
  "kernelspec": {
   "display_name": "Python 3",
   "language": "python",
   "name": "python3"
  },
  "language_info": {
   "codemirror_mode": {
    "name": "ipython",
    "version": 3
   },
   "file_extension": ".py",
   "mimetype": "text/x-python",
   "name": "python",
   "nbconvert_exporter": "python",
   "pygments_lexer": "ipython3",
   "version": "3.7.3"
  }
 },
 "nbformat": 4,
 "nbformat_minor": 2
}
