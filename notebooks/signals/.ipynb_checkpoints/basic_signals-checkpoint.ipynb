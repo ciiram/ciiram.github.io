{
 "cells": [
  {
   "cell_type": "markdown",
   "metadata": {},
   "source": [
    "# Signals and Communication Examples\n",
    "\n",
    "Here we give examples related to signal classification and basic signals.\n",
    "\n",
    "\n",
    "## Signal Classification\n",
    "\n",
    "### Continuous and Discrete \n",
    "\n",
    "Let us simulate a continuous signal corresponiding to $x(t) = \\sin(2\\pi t)$ and sample it at regular intervals."
   ]
  },
  {
   "cell_type": "code",
   "execution_count": null,
   "metadata": {},
   "outputs": [],
   "source": [
    "import numpy as np\n",
    "import matplotlib.pyplot as plt\n",
    "\n",
    "t = np.linspace(-2, 2, 1000)\n",
    "\n",
    "%matplotlib inline\n",
    "plt.figure()\n",
    "plt.plot(t, np.sin(2 * np.pi * t))\n",
    "plt.xlabel('Time(s)')\n",
    "plt.ylabel(r'$x(t)$')\n",
    "plt.grid(True)\n",
    "\n"
   ]
  },
  {
   "cell_type": "markdown",
   "metadata": {},
   "source": [
    "Now let us sample this signal at regular intervals. The interval is known as the sampling period $T_s$. We use the following values\n",
    "1. $T_s = 1$\n",
    "1. $T_s = \\frac{1}{2}$\n",
    "1. $T_s = \\frac{1}{4}$\n",
    "1. $T_s = \\frac{1}{8}$"
   ]
  },
  {
   "cell_type": "code",
   "execution_count": null,
   "metadata": {
    "collapsed": true
   },
   "outputs": [],
   "source": [
    "Ts = .5\n",
    "sampling_times = np.arange(-2, 2.5, Ts)"
   ]
  },
  {
   "cell_type": "code",
   "execution_count": null,
   "metadata": {
    "collapsed": true
   },
   "outputs": [],
   "source": [
    "n = np.array(range(len(sampling_times)))-(2 / Ts)"
   ]
  },
  {
   "cell_type": "code",
   "execution_count": null,
   "metadata": {},
   "outputs": [],
   "source": [
    "plt.stem(n, np.sin(2 * np.pi * sampling_times))\n",
    "plt.ylim([-1.5, 1.5])\n",
    "plt.xlabel(r'$n$')\n",
    "plt.ylabel(r'$x[n]$')\n",
    "plt.grid(True)"
   ]
  },
  {
   "cell_type": "markdown",
   "metadata": {},
   "source": [
    "### Odd and Even\n",
    "\n",
    "The sine function is odd $x(-t)=-x(t) \\quad \\forall t$"
   ]
  },
  {
   "cell_type": "code",
   "execution_count": null,
   "metadata": {},
   "outputs": [],
   "source": [
    "t = np.linspace(-2, 2, 1000)\n",
    "plt.figure()\n",
    "plt.plot(t, np.sin(2 * np.pi * t))\n",
    "plt.xlabel('Time(s)')\n",
    "plt.ylabel(r'$x(t)$')\n",
    "plt.grid(True)"
   ]
  },
  {
   "cell_type": "markdown",
   "metadata": {},
   "source": [
    "The cosine function is even $x(-t)=x(t) \\quad \\forall t$"
   ]
  },
  {
   "cell_type": "code",
   "execution_count": null,
   "metadata": {},
   "outputs": [],
   "source": [
    "plt.figure()\n",
    "plt.plot(t, np.cos(2 * np.pi * t))\n",
    "plt.xlabel('Time(s)')\n",
    "plt.ylabel(r'$x(t)$')\n",
    "plt.grid(True)"
   ]
  },
  {
   "cell_type": "markdown",
   "metadata": {},
   "source": [
    "## Basic Signals\n",
    "\n",
    "### The Unit Step\n",
    "$\\begin{equation}\n",
    "u(t)=\\left\\{ \\begin{array}{ll}\n",
    "1 & \\textrm{ $t> 0$}\\\\\n",
    "0 & \\textrm{$t<0$}\n",
    "\\end{array} \\right.\n",
    "\\end{equation}\n",
    "$\n"
   ]
  },
  {
   "cell_type": "code",
   "execution_count": null,
   "metadata": {
    "collapsed": true
   },
   "outputs": [],
   "source": [
    "def unit_step(t):\n",
    "    result = np.zeros(len(t))\n",
    "    for index in range(len(t)):\n",
    "        if t[index] > 0:\n",
    "            result[index] = 1\n",
    "        else:\n",
    "            result[index] = 0\n",
    "            \n",
    "    return result"
   ]
  },
  {
   "cell_type": "code",
   "execution_count": null,
   "metadata": {},
   "outputs": [],
   "source": [
    "t = np.linspace(-2, 2, 1000)\n",
    "plt.plot(t, unit_step(t))\n",
    "plt.xlabel('Time(s)')\n",
    "plt.ylabel(r'$u(t)$')\n",
    "plt.grid(True)"
   ]
  },
  {
   "cell_type": "markdown",
   "metadata": {},
   "source": [
    "### The Unit Ramp\n",
    "$\\begin{equation}\n",
    "r(t)=\\left\\{ \\begin{array}{ll}\n",
    "t & \\textrm{ $t\\geq 0$}\\\\\n",
    "0 & \\textrm{$t<0$}\n",
    "\\end{array} \\right.\n",
    "\\end{equation}\n",
    "$"
   ]
  },
  {
   "cell_type": "code",
   "execution_count": null,
   "metadata": {
    "collapsed": true
   },
   "outputs": [],
   "source": [
    "def unit_ramp(t):\n",
    "    result = np.zeros(len(t))\n",
    "    for index in range(len(t)):\n",
    "        if t[index] >= 0:\n",
    "            result[index] = t[index]\n",
    "        else:\n",
    "            result[index] = 0\n",
    "            \n",
    "    return result"
   ]
  },
  {
   "cell_type": "code",
   "execution_count": null,
   "metadata": {},
   "outputs": [],
   "source": [
    "t = np.linspace(-2, 2, 1000)\n",
    "plt.plot(t, unit_ramp(t))\n",
    "plt.xlabel('Time(s)')\n",
    "plt.ylabel(r'$r(t)$')\n",
    "plt.grid(True)"
   ]
  },
  {
   "cell_type": "markdown",
   "metadata": {},
   "source": [
    "### The Dirac Delta Function\n",
    "\n",
    "We consider the Dirac delta function as the limit of\n",
    "$\\begin{equation}\n",
    "p_\\Delta(t)=\\left\\{ \\begin{array}{ll}\n",
    "\\frac{1}{\\Delta} & \\textrm{ $|t|< \\frac{\\Delta}{2}$}\\\\\n",
    "0 & \\textrm{Otherwise}\n",
    "\\end{array} \\right.\n",
    "\\end{equation}$\n",
    "as $\\Delta\\rightarrow 0$."
   ]
  },
  {
   "cell_type": "code",
   "execution_count": null,
   "metadata": {
    "collapsed": true
   },
   "outputs": [],
   "source": [
    "def delta_pulse(t, delta):\n",
    "    result = np.zeros(len(t))\n",
    "    for index in range(len(t)):\n",
    "        if np.abs(t[index]) <= delta / 2:\n",
    "            result[index] = 1 / delta \n",
    "        else:\n",
    "            result[index] = 0\n",
    "            \n",
    "    return result\n",
    "    "
   ]
  },
  {
   "cell_type": "markdown",
   "metadata": {},
   "source": [
    "We plot this function for several values of $\\Delta$ on the same graph"
   ]
  },
  {
   "cell_type": "code",
   "execution_count": null,
   "metadata": {},
   "outputs": [],
   "source": [
    "delta_values = [2, 1, 0.5, 0.25, 0.125]\n",
    "\n",
    "t = np.linspace(-2, 2, 1000)\n",
    "\n",
    "for delta in delta_values:\n",
    "    plt.plot(t, delta_pulse(t, delta))\n",
    "plt.xlabel('Time(s)')\n",
    "plt.ylabel(r'$p_\\Delta(t)$')\n",
    "plt.legend(delta_values)\n",
    "plt.grid(True)"
   ]
  },
  {
   "cell_type": "markdown",
   "metadata": {},
   "source": [
    "Mathematically, the Dirac delta pulse is defined as follows\n",
    "\n",
    "$\\begin{equation}\n",
    "\\delta(t)=0, t\\neq0\n",
    "\\end{equation}$\n",
    "\n",
    "and\n",
    "\n",
    "$\\begin{equation}\n",
    "\\int_{-\\infty}^{\\infty}\\delta(t)dt=1\n",
    "\\end{equation}$\n",
    "\n",
    "The sifting property will be useful when we explore sampling.\n",
    "\n",
    "$\\begin{equation}\n",
    "\\int_{-\\infty}^{\\infty}x(t)\\delta(t-t_0)dt=x(t_0)\n",
    "\\end{equation}$"
   ]
  },
  {
   "cell_type": "markdown",
   "metadata": {},
   "source": [
    "### Operations on Signals\n",
    "\n",
    "We will perform some operations on signals.\n",
    "1. Scaling $ax(t)$ for some scalar $a$\n",
    "1. Signal delay $x(t - D)$\n",
    "1. Addition of signals\n",
    "1. Multiplication of signals\n",
    "1. Time scaling $x(at)$ where a is a real positive number\n",
    "\n",
    "Plot $2u(t)$"
   ]
  },
  {
   "cell_type": "code",
   "execution_count": null,
   "metadata": {},
   "outputs": [],
   "source": [
    "plt.plot(t, 2 * unit_step(t))\n",
    "plt.xlabel('Time(s)')\n",
    "plt.ylabel(r'$2u(t)$')\n",
    "plt.grid(True)"
   ]
  },
  {
   "cell_type": "markdown",
   "metadata": {},
   "source": [
    "Plot $r(t - 1)$"
   ]
  },
  {
   "cell_type": "code",
   "execution_count": null,
   "metadata": {},
   "outputs": [],
   "source": [
    "t = np.linspace(-2, 2, 1000)\n",
    "plt.plot(t, unit_ramp(t - 1))\n",
    "plt.xlabel('Time(s)')\n",
    "plt.ylabel(r'$r(t)$')\n",
    "plt.grid(True)"
   ]
  },
  {
   "cell_type": "markdown",
   "metadata": {},
   "source": [
    "Plot $r(t) - r(t - 1)$"
   ]
  },
  {
   "cell_type": "code",
   "execution_count": null,
   "metadata": {},
   "outputs": [],
   "source": [
    "t = np.linspace(-2, 2, 1000)\n",
    "plt.plot(t, unit_ramp(t) - unit_ramp(t - 1))\n",
    "plt.xlabel('Time(s)')\n",
    "plt.ylabel(r'$x(t)$')\n",
    "plt.grid(True)"
   ]
  },
  {
   "cell_type": "markdown",
   "metadata": {},
   "source": [
    "Plot $r(t) - 2r(t - 1) + r(t - 2)$"
   ]
  },
  {
   "cell_type": "code",
   "execution_count": null,
   "metadata": {},
   "outputs": [],
   "source": [
    "t = np.linspace(-3, 3, 1000)\n",
    "plt.plot(t, unit_ramp(t) - 2 * unit_ramp(t - 1) + unit_ramp(t - 2))\n",
    "plt.xlabel('Time(s)') \n",
    "plt.ylabel(r'$x(t)$')\n",
    "plt.grid(True)"
   ]
  },
  {
   "cell_type": "markdown",
   "metadata": {},
   "source": [
    "Plot $e^{-t}u(t)$"
   ]
  },
  {
   "cell_type": "code",
   "execution_count": null,
   "metadata": {},
   "outputs": [],
   "source": [
    "t = np.linspace(-3, 3, 1000)\n",
    "plt.plot(t, np.exp(-t) * unit_step(t))\n",
    "plt.xlabel('t') \n",
    "plt.ylabel(r'$e^{-t}u(t)$')\n",
    "plt.ylim([-.5, 2])\n",
    "plt.grid(True)"
   ]
  },
  {
   "cell_type": "code",
   "execution_count": null,
   "metadata": {},
   "outputs": [],
   "source": [
    "plt.plot(t, unit_step(-t -1))"
   ]
  },
  {
   "cell_type": "code",
   "execution_count": null,
   "metadata": {
    "collapsed": true
   },
   "outputs": [],
   "source": []
  }
 ],
 "metadata": {
  "kernelspec": {
   "display_name": "Python 3",
   "language": "python",
   "name": "python3"
  },
  "language_info": {
   "codemirror_mode": {
    "name": "ipython",
    "version": 3
   },
   "file_extension": ".py",
   "mimetype": "text/x-python",
   "name": "python",
   "nbconvert_exporter": "python",
   "pygments_lexer": "ipython3",
   "version": "3.6.8"
  }
 },
 "nbformat": 4,
 "nbformat_minor": 2
}
