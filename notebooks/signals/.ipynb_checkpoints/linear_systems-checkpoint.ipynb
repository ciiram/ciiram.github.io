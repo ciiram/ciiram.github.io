{
 "cells": [
  {
   "cell_type": "markdown",
   "metadata": {},
   "source": [
    "# Linear Systems\n",
    "Linear systems satisfy both superposition and homogeneity.\n",
    "\n",
    "1.  Superposition: if input $x_1(t)$ produces output $y_1(t)$ and input $x_2(t)$ produces output $y_2(t)$. Then the output of the system in response to input $x_1(t)+x_2(t)$ is $y_1(t)+y_2(t)$.\n",
    "1. Homogeneity: If input $x(t)$ produces output $y(t)$, then input $ax(t)$ where $a\\in\\mathbf{C}$ produces output $ay(t)$.\n",
    "\n",
    "\n"
   ]
  },
  {
   "cell_type": "code",
   "execution_count": null,
   "metadata": {},
   "outputs": [],
   "source": [
    "import numpy as np\n",
    "import basic\n",
    "import matplotlib.pyplot as plt\n",
    "\n",
    "t = np.linspace(-1, 5, 500)\n",
    "%matplotlib inline\n",
    "plt.plot(t, basic.unit_step(t) - basic.unit_step(t - 1))\n",
    "plt.xlim([-1, 5])\n",
    "plt.ylim([-1.5, 1.5])\n",
    "plt.xlabel(r'$t$', fontsize=14)\n",
    "plt.ylabel(r'$x_1(t)$', fontsize=14)\n",
    "plt.grid(True)"
   ]
  },
  {
   "cell_type": "code",
   "execution_count": null,
   "metadata": {},
   "outputs": [],
   "source": [
    "plt.plot(t, basic.unit_ramp(t) - 2 * basic.unit_ramp(t - 1) + basic.unit_ramp(t - 2))\n",
    "plt.xlim([-1, 5])\n",
    "plt.ylim([-.5, 1.5])\n",
    "plt.xlabel(r'$t$', fontsize=14)\n",
    "plt.ylabel(r'$y_1(t)$', fontsize=14)\n",
    "plt.grid(True)\n",
    "plt.savefig('../figures/l2_fig2.jpg')"
   ]
  },
  {
   "cell_type": "code",
   "execution_count": null,
   "metadata": {},
   "outputs": [],
   "source": [
    "plt.plot(t, 2 * (basic.unit_ramp(t) - 2 * basic.unit_ramp(t - 1) + basic.unit_ramp(t - 2)))\n",
    "plt.xlim([-1, 5])\n",
    "plt.ylim([-.5, 2.5])\n",
    "plt.xlabel(r'$t$', fontsize=14)\n",
    "plt.ylabel(r'$2y_1(t)$', fontsize=14)\n",
    "plt.grid(True)"
   ]
  },
  {
   "cell_type": "code",
   "execution_count": null,
   "metadata": {},
   "outputs": [],
   "source": [
    "plt.plot(t, -1 * (basic.unit_ramp(t) - 2 * basic.unit_ramp(t - 1) + basic.unit_ramp(t - 2)))\n",
    "plt.xlim([-1, 5])\n",
    "plt.ylim([-1.5, .5])\n",
    "plt.xlabel(r'$t$', fontsize=14)\n",
    "plt.ylabel(r'$-y_1(t)$', fontsize=14)\n",
    "plt.grid(True)"
   ]
  },
  {
   "cell_type": "code",
   "execution_count": null,
   "metadata": {},
   "outputs": [],
   "source": [
    "plt.plot(t, basic.unit_step(t - 2) - basic.unit_step(t - 3))\n",
    "plt.xlim([-1, 5])\n",
    "plt.ylim([-1.5, 1.5])\n",
    "plt.xlabel(r'$t$', fontsize=14)\n",
    "plt.ylabel(r'$x_2(t)$', fontsize=14)\n",
    "plt.grid(True)"
   ]
  },
  {
   "cell_type": "code",
   "execution_count": null,
   "metadata": {},
   "outputs": [],
   "source": [
    "plt.plot(t, basic.unit_ramp(t - 2) - 2 * basic.unit_ramp(t - 3) + basic.unit_ramp(t - 4))\n",
    "plt.xlim([-1, 5])\n",
    "plt.ylim([-.5, 1.5])\n",
    "plt.xlabel(r'$t$', fontsize=14)\n",
    "plt.ylabel(r'$y_2(t)$', fontsize=14)\n",
    "plt.grid(True)"
   ]
  },
  {
   "cell_type": "code",
   "execution_count": null,
   "metadata": {},
   "outputs": [],
   "source": [
    "plt.plot(t, basic.unit_step(t) -\n",
    "         basic.unit_step(t - 1) + \n",
    "         basic.unit_step(t - 2) - \n",
    "         basic.unit_step(t - 3))\n",
    "plt.xlim([-1, 5])\n",
    "plt.ylim([-1.5, 1.5])\n",
    "plt.xlabel(r'$t$', fontsize=14)\n",
    "plt.ylabel(r'$x_1(t) + x_2(t)$', fontsize=14)\n",
    "plt.grid(True)"
   ]
  },
  {
   "cell_type": "code",
   "execution_count": null,
   "metadata": {},
   "outputs": [],
   "source": [
    "plt.plot(t, basic.unit_ramp(t) -\n",
    "         2 * basic.unit_ramp(t - 1) +\n",
    "         basic.unit_ramp(t - 2) + \n",
    "         basic.unit_ramp(t - 2) - \n",
    "         2 * basic.unit_ramp(t - 3) + \n",
    "         basic.unit_ramp(t - 4))\n",
    "plt.xlim([-1, 5])\n",
    "plt.ylim([-.5, 1.5])\n",
    "plt.xlabel(r'$t$', fontsize=14)\n",
    "plt.ylabel(r'$y_1(t) + y_2(t)$', fontsize=14)\n",
    "plt.grid(True)"
   ]
  },
  {
   "cell_type": "code",
   "execution_count": null,
   "metadata": {},
   "outputs": [],
   "source": [
    "plt.plot(t, basic.unit_ramp(t) -\n",
    "         2 * basic.unit_ramp(t - 1) +\n",
    "         basic.unit_ramp(t - 2) - \n",
    "         basic.unit_ramp(t - 2) +\n",
    "         2 * basic.unit_ramp(t - 3) - \n",
    "         basic.unit_ramp(t - 4))\n",
    "plt.xlim([-1, 5])\n",
    "plt.ylim([-1.5, 1.5])\n",
    "plt.xlabel(r'$t$', fontsize=14)\n",
    "plt.ylabel(r'$y_1(t) - y_2(t)$', fontsize=14)\n",
    "plt.grid(True)"
   ]
  },
  {
   "cell_type": "code",
   "execution_count": null,
   "metadata": {},
   "outputs": [],
   "source": [
    "plt.plot(t, basic.unit_step(t - 1) - basic.unit_step(t - 2))\n",
    "plt.xlim([-1, 5])\n",
    "plt.ylim([-1.5, 1.5])\n",
    "plt.xlabel(r'$t$', fontsize=14)\n",
    "plt.ylabel(r'$x_1(t-1)$', fontsize=14)\n",
    "plt.grid(True)"
   ]
  },
  {
   "cell_type": "code",
   "execution_count": null,
   "metadata": {},
   "outputs": [],
   "source": [
    "plt.plot(t, basic.unit_ramp(t-1) - 2 * basic.unit_ramp(t - 2) + basic.unit_ramp(t - 3))\n",
    "plt.xlim([-1, 5])\n",
    "plt.ylim([-.5, 1.5])\n",
    "plt.xlabel(r'$t$', fontsize=14)\n",
    "plt.ylabel(r'$y_1(t-1)$', fontsize=14)\n",
    "plt.grid(True)"
   ]
  },
  {
   "cell_type": "code",
   "execution_count": null,
   "metadata": {},
   "outputs": [],
   "source": [
    "t = np.linspace(-3, 3, 1000)\n",
    "plt.plot(t, np.exp(-t) * basic.unit_step(t))\n",
    "plt.xlabel('t') \n",
    "plt.ylabel(r'$e^{-t}u(t)$')\n",
    "plt.ylim([-.5, 1.2])\n",
    "plt.grid(True)"
   ]
  },
  {
   "cell_type": "code",
   "execution_count": null,
   "metadata": {},
   "outputs": [],
   "source": [
    "t = np.linspace(-3, 10, 1000)\n",
    "plt.plot(t, (1 - np.exp(-t)) * basic.unit_step(t))\n",
    "plt.xlabel('t') \n",
    "plt.ylabel(r'$y(t)$')\n",
    "plt.ylim([-.5, 1.2])\n",
    "plt.grid(True)"
   ]
  },
  {
   "cell_type": "code",
   "execution_count": null,
   "metadata": {},
   "outputs": [],
   "source": [
    "def output(t):\n",
    "    result = np.zeros(len(t))\n",
    "    for index in range(len(t)):\n",
    "        if t[index] < 0:\n",
    "            result[index] = 0\n",
    "        elif t[index] >= 0 and t[index] <= 1:\n",
    "            result[index] = 1 - np.exp(-t[index])\n",
    "        else:\n",
    "            result[index] = (np.exp(1) -1)*np.exp(-t[index])\n",
    "            \n",
    "    return result\n",
    "\n",
    "t = np.linspace(-3, 10, 1000)\n",
    "plt.plot(t, basic.unit_step(t) - basic.unit_step(t - 1),'r')\n",
    "plt.plot(t, output(t),'b')\n",
    "plt.xlabel('t') \n",
    "# plt.ylabel(r'$y(t)$')\n",
    "plt.ylim([-.5, 1.2])\n",
    "plt.xlim([-3,10])\n",
    "plt.legend([r'$x(t)$', r'$y(t)$'])\n",
    "plt.grid(True)\n",
    "plt.savefig('../figures/l2_fig14.jpg')"
   ]
  },
  {
   "cell_type": "code",
   "execution_count": null,
   "metadata": {
    "scrolled": true
   },
   "outputs": [],
   "source": [
    "t = np.linspace(-3, 10, 1000)\n",
    "plt.plot(t, (1 - np.exp(-t)) * basic.unit_step(t))\n",
    "plt.plot(t, (1 - np.exp(-(t-1)) )* basic.unit_step(t-1), 'r')\n",
    "plt.plot(t, (1 - np.exp(-t)) * basic.unit_step(t) - \n",
    "         (1 - np.exp(-(t-1)) )* basic.unit_step(t-1), 'g')\n",
    "plt.xlabel('t') \n",
    "plt.ylabel(r'$y(t)$')\n",
    "plt.legend([r'Response to $u(t)$', \n",
    "            r'Response to $u(t-1)$',\n",
    "           r'Response to $u(t)-u(t-1)$'])\n",
    "plt.ylim([-.5, 1.2])\n",
    "plt.grid(True)"
   ]
  },
  {
   "cell_type": "code",
   "execution_count": null,
   "metadata": {
    "collapsed": true
   },
   "outputs": [],
   "source": []
  }
 ],
 "metadata": {
  "kernelspec": {
   "display_name": "Python 3",
   "language": "python",
   "name": "python3"
  },
  "language_info": {
   "codemirror_mode": {
    "name": "ipython",
    "version": 3
   },
   "file_extension": ".py",
   "mimetype": "text/x-python",
   "name": "python",
   "nbconvert_exporter": "python",
   "pygments_lexer": "ipython3",
   "version": "3.6.8"
  }
 },
 "nbformat": 4,
 "nbformat_minor": 2
}
