{
 "cells": [
  {
   "cell_type": "markdown",
   "metadata": {},
   "source": [
    "## Convolution\n",
    "For any continuous time signal $x(t)$, we can approximate it by\n",
    "    $\\hat{x}(t)=\\sum_{n=-\\infty}^\\infty x(n\\Delta\\tau)p_{\\Delta\\tau}(t-n\\Delta\\tau)\\Delta\\tau\n",
    "    $\n",
    "    where  $\n",
    "      p_{\\Delta\\tau}(t)=\\left\\{ \\begin{array}{ll}\n",
    "        \\frac{1}{\\Delta\\tau} & \\textrm{ $|t|< \\frac{\\Delta\\tau}{2}$}\\\\\n",
    "        0 & \\textrm{Otherwise}\n",
    "      \\end{array} \\right.\n",
    "   $"
   ]
  },
  {
   "cell_type": "code",
   "execution_count": null,
   "metadata": {},
   "outputs": [],
   "source": [
    "import numpy as np\n",
    "import matplotlib.pyplot as plt\n",
    "\n",
    "t = np.linspace(0, 2, 1000)\n",
    "\n",
    "def delta_pulse(t, delta):\n",
    "    result = np.zeros(len(t))\n",
    "    for index in range(len(t)):\n",
    "        if np.abs(t[index]) <= delta / 2:\n",
    "            result[index] = 1 / delta \n",
    "        else:\n",
    "            result[index] = 0\n",
    "            \n",
    "    return result"
   ]
  },
  {
   "cell_type": "markdown",
   "metadata": {},
   "source": [
    "Modify the value of `delta` below to see the effect on the approximation"
   ]
  },
  {
   "cell_type": "code",
   "execution_count": null,
   "metadata": {},
   "outputs": [],
   "source": [
    "def x(t):\n",
    "    return np.sin(np.pi * t)\n",
    "    \n",
    "\n",
    "delta = .0125\n",
    "approx = np.zeros(len(t))\n",
    "n = 0\n",
    "while n * delta < 2:\n",
    "    approx += (delta_pulse(t - n * delta, delta)\n",
    "               * delta * x(n * delta))\n",
    "    n += 1\n",
    "    \n",
    "%matplotlib inline\n",
    "plt.figure()\n",
    "plt.plot(t, x(t))\n",
    "plt.plot(t, approx, 'r')\n",
    "plt.legend([r'$x(t)$', r'$\\hat{x}(t)$'])\n",
    "plt.xlabel('t', fontsize=20)\n",
    "plt.ylabel(r'$x(t)$', fontsize=20)\n",
    "plt.grid(True)\n"
   ]
  },
  {
   "cell_type": "code",
   "execution_count": null,
   "metadata": {},
   "outputs": [],
   "source": [
    "%matplotlib inline\n",
    "n = 3\n",
    "\n",
    "plt.figure()\n",
    "plt.plot(t, x(t))\n",
    "plt.plot(t, delta_pulse(t - n * delta, delta)\n",
    "              , 'r')\n",
    "plt.figure()\n",
    "plt.plot(t, x(t))\n",
    "plt.plot(t, (delta_pulse(t - n * delta, delta)\n",
    "               * delta * x(n * delta)), 'r')"
   ]
  },
  {
   "cell_type": "markdown",
   "metadata": {},
   "source": [
    "1. $x(0)p_{\\Delta\\tau}(t)\\Delta\\tau \\rightarrow  x(0)h_{\\Delta\\tau}(t)\\Delta\\tau$\n",
    "1. $x(\\Delta\\tau)p_{\\Delta\\tau}(t-\\Delta\\tau)\\Delta\\tau \\rightarrow x(\\Delta\\tau)h_{\\Delta\\tau}(t-\\Delta\\tau)\\Delta\\tau$"
   ]
  },
  {
   "cell_type": "markdown",
   "metadata": {},
   "source": [
    "## Convolution Example\n",
    "Let $x(t) = u(t) - u(t-1)$ be the input to a system whose impulse response is $h(t) = u(t) - u(t-1)$. Compute the response."
   ]
  },
  {
   "cell_type": "code",
   "execution_count": null,
   "metadata": {},
   "outputs": [],
   "source": [
    "def unit_step(t):\n",
    "    result = np.zeros(len(t))\n",
    "    for index in range(len(t)):\n",
    "        if t[index] > 0:\n",
    "            result[index] = 1\n",
    "        else:\n",
    "            result[index] = 0\n",
    "            \n",
    "    return result\n",
    "\n",
    "def x(t):\n",
    "    return unit_step(t) - unit_step(t - 1)\n",
    "\n",
    "def h(t):\n",
    "    return unit_step(t) - unit_step(t - 1)\n",
    "\n",
    "\n"
   ]
  },
  {
   "cell_type": "code",
   "execution_count": null,
   "metadata": {},
   "outputs": [],
   "source": [
    "t = np.linspace(-2.5, 2.5, 1000)\n",
    "plt.figure()\n",
    "plt.plot(t, x(t))\n",
    "plt.xlabel('t', fontsize=20)\n",
    "plt.ylabel(r'$x(t)$', fontsize=20)\n",
    "plt.grid(True)\n",
    "\n",
    "plt.figure()\n",
    "plt.plot(t, h(t))\n",
    "plt.xlabel('t', fontsize=20)\n",
    "plt.ylabel(r'$h(t)$', fontsize=20)\n",
    "plt.grid(True)"
   ]
  },
  {
   "cell_type": "markdown",
   "metadata": {},
   "source": [
    "To evaluate the convolution we have\n",
    "\n",
    " \\begin{equation}\n",
    "y(t)=\\int_{-\\infty}^{\\infty}x(\\tau)h(t-\\tau)d\\tau\n",
    "    \\end{equation}\n",
    "We form the functions $x(\\tau)$ and $h(t-\\tau)$"
   ]
  },
  {
   "cell_type": "code",
   "execution_count": null,
   "metadata": {},
   "outputs": [],
   "source": [
    "tau = np.linspace(-2.5, 2.5, 1000)\n",
    "plt.figure()\n",
    "plt.plot(tau, x(tau))\n",
    "plt.xlabel(r'$\\tau$', fontsize=20)\n",
    "plt.ylabel(r'$x(\\tau)$', fontsize=20)\n",
    "plt.grid(True)\n",
    "\n",
    "plt.figure()\n",
    "plt.plot(tau, h(tau))\n",
    "plt.xlabel(r'$\\tau$', fontsize=20)\n",
    "plt.ylabel(r'$h(\\tau)$', fontsize=20)\n",
    "plt.grid(True)"
   ]
  },
  {
   "cell_type": "markdown",
   "metadata": {},
   "source": [
    "The function $h(t-\\tau)$ varies for different $t$. If $t=0$ we have $h(-\\tau)$"
   ]
  },
  {
   "cell_type": "code",
   "execution_count": null,
   "metadata": {},
   "outputs": [],
   "source": [
    "plt.figure()\n",
    "plt.plot(tau, h(-tau))\n",
    "plt.plot(tau, x(tau),'r')\n",
    "plt.xlabel(r'$\\tau$', fontsize=20)\n",
    "plt.ylabel(r'$h(-\\tau)$', fontsize=20)\n",
    "plt.grid(True)"
   ]
  },
  {
   "cell_type": "markdown",
   "metadata": {},
   "source": [
    "Let $h_1(\\tau)=h(-\\tau)$. We have\n",
    "\n",
    "$h_1(\\tau - t)= h(-(\\tau -t)) = h(t-\\tau)$"
   ]
  },
  {
   "cell_type": "code",
   "execution_count": null,
   "metadata": {},
   "outputs": [],
   "source": [
    "def h1(t):\n",
    "    return h(-t)"
   ]
  },
  {
   "cell_type": "code",
   "execution_count": null,
   "metadata": {},
   "outputs": [],
   "source": [
    "plt.figure()\n",
    "plt.plot(tau, h1(tau))\n",
    "plt.xlabel(r'$\\tau$', fontsize=20)\n",
    "plt.ylabel(r'$h_1(\\tau)$', fontsize=20)\n",
    "plt.grid(True)"
   ]
  },
  {
   "cell_type": "markdown",
   "metadata": {},
   "source": [
    "When $t<0$, say $t=-1$"
   ]
  },
  {
   "cell_type": "code",
   "execution_count": null,
   "metadata": {},
   "outputs": [],
   "source": [
    "t = -1\n",
    "plt.figure()\n",
    "plt.plot(tau, h1(tau - t))\n",
    "plt.plot(tau, x(tau),'r')\n",
    "plt.xlabel(r'$\\tau$', fontsize=20)\n",
    "plt.ylabel(r'$h_1(\\tau + 1)$', fontsize=20)\n",
    "plt.grid(True)"
   ]
  },
  {
   "cell_type": "markdown",
   "metadata": {},
   "source": [
    "When $t>0$, say $t=1$"
   ]
  },
  {
   "cell_type": "code",
   "execution_count": null,
   "metadata": {},
   "outputs": [],
   "source": [
    "t = 1.5\n",
    "plt.figure()\n",
    "plt.plot(tau, h1(tau - t))\n",
    "plt.plot(tau, x(tau),'r')\n",
    "plt.xlabel(r'$\\tau$', fontsize=20)\n",
    "plt.ylabel(r'$h_1(\\tau - 1)$', fontsize=20)\n",
    "plt.grid(True)"
   ]
  },
  {
   "cell_type": "code",
   "execution_count": null,
   "metadata": {},
   "outputs": [],
   "source": []
  }
 ],
 "metadata": {
  "kernelspec": {
   "display_name": "Python 3",
   "language": "python",
   "name": "python3"
  },
  "language_info": {
   "codemirror_mode": {
    "name": "ipython",
    "version": 3
   },
   "file_extension": ".py",
   "mimetype": "text/x-python",
   "name": "python",
   "nbconvert_exporter": "python",
   "pygments_lexer": "ipython3",
   "version": "3.7.3"
  }
 },
 "nbformat": 4,
 "nbformat_minor": 2
}
