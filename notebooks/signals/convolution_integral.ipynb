{
 "cells": [
  {
   "cell_type": "markdown",
   "metadata": {},
   "source": [
    "# The Convolution Integral\n",
    "\n",
    "We have seen that the output $y(t)$ of an linear time invariant (LTI) system in response to input $x(t)$ is given by the convolution integral. That is\n",
    "\n",
    "$\n",
    "y(t)=\\int_{-\\infty}^{\\infty}x(\\tau)h(t-\\tau)d\\tau\n",
    "$\n",
    "\n",
    "\n",
    "## Integration\n",
    "To begin with, let us explore integration using Python. We will consider an integrator whose output in response to an input $x(t)$ is given by\n",
    "\n",
    "$\n",
    "y(t)=\\int_{-\\infty}^tx(\\tau)d\\tau\n",
    "$\n",
    "\n",
    "Let us assume that the input is given by the unit step."
   ]
  },
  {
   "cell_type": "code",
   "execution_count": null,
   "metadata": {
    "collapsed": true
   },
   "outputs": [],
   "source": [
    "import numpy as np\n",
    "\n",
    "\n",
    "def unit_step(t):\n",
    "    \"\"\" Unit step \"\"\"\n",
    "    if t >= 0:\n",
    "        return 1\n",
    "    else:\n",
    "        return 0\n",
    "    "
   ]
  },
  {
   "cell_type": "markdown",
   "metadata": {},
   "source": [
    "To perform the integration, we shall use the `scipy` package."
   ]
  },
  {
   "cell_type": "code",
   "execution_count": null,
   "metadata": {},
   "outputs": [],
   "source": [
    "import scipy as sp\n",
    "import scipy.integrate\n",
    "\n",
    "sp.integrate.quad?"
   ]
  },
  {
   "cell_type": "code",
   "execution_count": null,
   "metadata": {},
   "outputs": [],
   "source": [
    "t = np.linspace(-5, 5, 100)\n",
    "y = np.zeros(len(t))\n",
    "for i in range(len(t)):\n",
    "    y[i], _ = sp.integrate.quad(unit_step, -np.infty, t[i])"
   ]
  },
  {
   "cell_type": "code",
   "execution_count": null,
   "metadata": {},
   "outputs": [],
   "source": [
    "import matplotlib.pyplot as plt\n",
    "\n",
    "%matplotlib inline\n",
    "plt.figure()\n",
    "plt.plot(t, y)\n",
    "plt.xlabel('Time(s)')\n",
    "plt.ylabel(r'$y(t)$')\n",
    "plt.grid(True)"
   ]
  },
  {
   "cell_type": "markdown",
   "metadata": {},
   "source": [
    "## Exercise\n",
    "\n",
    "Repeat the above with the input given by the unit ramp."
   ]
  },
  {
   "cell_type": "code",
   "execution_count": null,
   "metadata": {
    "collapsed": true
   },
   "outputs": [],
   "source": [
    "# Your code here"
   ]
  },
  {
   "cell_type": "markdown",
   "metadata": {},
   "source": [
    "## Convolution\n",
    "Now let us consider a linear time invariant (LTI) system with impulse response $h(t)=e^{-t}u(t)$ and $u(t)$ is the unit step function. We will compute and plot the response $y(t)$ of the LTI system when $x(t) = u(t)$.\n",
    "\n",
    "We have\n",
    "\n",
    "$y(t) = \\int_{-\\infty}^{\\infty}u(\\tau)e^{-(t-\\tau)}u(t - \\tau)d\\tau$\n",
    "\n",
    "To proceed we define a function that returns the integrand $u(\\tau)e^{-(t-\\tau)}u(t - \\tau)$ as a function of $\\tau$ and $t$."
   ]
  },
  {
   "cell_type": "code",
   "execution_count": null,
   "metadata": {
    "collapsed": true
   },
   "outputs": [],
   "source": [
    "def integrand(tau, t):\n",
    "    return unit_step(tau) * np.exp(tau -  t) * unit_step(t - tau)"
   ]
  },
  {
   "cell_type": "code",
   "execution_count": null,
   "metadata": {},
   "outputs": [],
   "source": [
    "t = np.linspace(-1, 1, 100)\n",
    "y = np.zeros(len(t))\n",
    "for i in range(len(t)):\n",
    "    y[i], _ = sp.integrate.quad(integrand, -np.infty, np.infty, args=(t[i]))"
   ]
  },
  {
   "cell_type": "code",
   "execution_count": null,
   "metadata": {},
   "outputs": [],
   "source": [
    "%matplotlib inline\n",
    "plt.figure()\n",
    "plt.plot(t, y)\n",
    "plt.xlabel('Time(s)')\n",
    "plt.ylabel(r'$y(t)$')\n",
    "plt.grid(True)"
   ]
  },
  {
   "cell_type": "markdown",
   "metadata": {},
   "source": [
    "## Exercise\n",
    "Consider a linear time invariant (LTI) system with impulse response $u(t) - u(t - 1)$ and $u(t)$ is the unit step function. Compute and plot the response $y(t)$ of the LTI system when $x(t) = u(t) - u(t -1)$.\n",
    "\n",
    "First work out the integral by hand then compare it with your result\n"
   ]
  },
  {
   "cell_type": "code",
   "execution_count": null,
   "metadata": {
    "collapsed": true
   },
   "outputs": [],
   "source": []
  }
 ],
 "metadata": {
  "kernelspec": {
   "display_name": "Python 3",
   "language": "python",
   "name": "python3"
  },
  "language_info": {
   "codemirror_mode": {
    "name": "ipython",
    "version": 3
   },
   "file_extension": ".py",
   "mimetype": "text/x-python",
   "name": "python",
   "nbconvert_exporter": "python",
   "pygments_lexer": "ipython3",
   "version": "3.6.8"
  }
 },
 "nbformat": 4,
 "nbformat_minor": 2
}
