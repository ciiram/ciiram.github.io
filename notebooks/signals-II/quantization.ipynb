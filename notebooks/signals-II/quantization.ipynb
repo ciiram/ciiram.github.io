{
 "cells": [
  {
   "cell_type": "markdown",
   "metadata": {},
   "source": [
    "## Quantization\n",
    "Consider the signal $x(t) = A\\sin(2\\pi t)$ and assume we sample it at a sampling rate of $f_s = \\frac{1}{T_s}$.\n",
    "\n",
    "To store or transmit this signal, we must map the samples to a set of finite amplitudes.\n",
    "\n",
    "Assume that we will use one bit to represent each sample. Then it would be reasonable to have positive values mapped to $\\frac{A}{2}$ and negative ones to $-\\frac{A}{2}$.\n",
    "\n",
    "After mapping to these finite set of values, we chose a binary representation \n",
    "1. $\\frac{A}{2}\\rightarrow 1$\n",
    "1. $-\\frac{A}{2}\\rightarrow 0$\n",
    "\n",
    "This input output mapping is shown below."
   ]
  },
  {
   "cell_type": "code",
   "execution_count": null,
   "metadata": {},
   "outputs": [],
   "source": [
    "import numpy as np\n",
    "import matplotlib.pyplot as plt\n",
    "\n",
    "A = 1\n",
    "\n",
    "I = np.linspace(-A, A, 1000)\n",
    "O = np.zeros(len(I))\n",
    "\n",
    "O[I > 0] = A / 2\n",
    "O[I < 0] = - A / 2\n",
    "\n",
    "%matplotlib inline\n",
    "plt.plot(I, O)\n",
    "plt.grid(True)\n",
    "plt.xlim([-A, A])\n",
    "plt.ylim([-A, A]);\n",
    "plt.title('Input Output Mapping')\n",
    "plt.xlabel('Input')\n",
    "plt.ylabel('Output')\n"
   ]
  },
  {
   "cell_type": "markdown",
   "metadata": {},
   "source": [
    "Now assume we have two bits. This means we can represent four levels.\n",
    "\n",
    "If we assume a uniform spacing between levels we compute the spacing as \n",
    "\n",
    "\\begin{equation}\n",
    "\\Delta = \\frac{2A}{2^{b}}\n",
    "\\end{equation}\n",
    "\n",
    "In this case two input output mappings are possible as shown"
   ]
  },
  {
   "cell_type": "code",
   "execution_count": null,
   "metadata": {},
   "outputs": [],
   "source": [
    "A = 1\n",
    "\n",
    "I = np.linspace(-A, A, 1000)\n",
    "O = np.zeros(len(I))\n",
    "\n",
    "delta = (2 * A) / 4\n",
    "O[(I > delta / 2) & (I < (3 * delta) / 2)] = delta\n",
    "O[(I > (3 * delta) / 2) & (I < (5 * delta) / 2)] = 2 * delta\n",
    "O[(I < - delta / 2)] = - delta\n",
    "\n",
    "plt.plot(I, O)\n",
    "plt.grid(True)\n",
    "plt.xlim([-1.5 * A, 1.5 *A])\n",
    "plt.ylim([-1.5 * A, 1.5 *A]);\n",
    "plt.title('Input Output Mapping')\n",
    "plt.xlabel('Input')\n",
    "plt.ylabel('Output')\n",
    "\n"
   ]
  },
  {
   "cell_type": "code",
   "execution_count": null,
   "metadata": {},
   "outputs": [],
   "source": [
    "O[(I > 0) & (I < delta)] = delta / 2\n",
    "O[(I > delta) ] = 1.5 * delta\n",
    "O[(I < 0) & (I > -delta)] = -delta / 2\n",
    "O[(I < -delta)] = -1.5 * delta\n",
    "\n",
    "plt.plot(I, O)\n",
    "plt.grid(True)\n",
    "plt.xlim([-1.5 * A, 1.5 *A])\n",
    "plt.ylim([-1.5 * A, 1.5 *A]);\n",
    "plt.title('Input Output Mapping')\n",
    "plt.xlabel('Input')\n",
    "plt.ylabel('Output')"
   ]
  },
  {
   "cell_type": "markdown",
   "metadata": {},
   "source": [
    "## Binary representation\n",
    "With 2 bits we can represent four levels as $00$, $01$, $10$ and $11$. \n",
    "\n",
    "For the midtread mapping we can use a two's complement representation."
   ]
  },
  {
   "cell_type": "markdown",
   "metadata": {},
   "source": [
    "-1 in two's complement\n",
    "\n",
    "01\n",
    "\n",
    "10\n",
    "\n",
    "\n",
    "11"
   ]
  },
  {
   "cell_type": "code",
   "execution_count": null,
   "metadata": {},
   "outputs": [],
   "source": []
  }
 ],
 "metadata": {
  "kernelspec": {
   "display_name": "Python 3",
   "language": "python",
   "name": "python3"
  },
  "language_info": {
   "codemirror_mode": {
    "name": "ipython",
    "version": 3
   },
   "file_extension": ".py",
   "mimetype": "text/x-python",
   "name": "python",
   "nbconvert_exporter": "python",
   "pygments_lexer": "ipython3",
   "version": "3.7.3"
  }
 },
 "nbformat": 4,
 "nbformat_minor": 2
}
