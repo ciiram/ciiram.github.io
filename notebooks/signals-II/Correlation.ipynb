{
 "cells": [
  {
   "cell_type": "markdown",
   "metadata": {},
   "source": [
    "# Autocorrelation\n",
    "Autocorrelation measures self-similarity. How similar samples of a signal at a time $t$ are to those obtained at a time $t+\\tau$.\n",
    "\n",
    "Rapidly varying signals have less self-similarity.\n",
    "\n",
    "Below we show two random signals that have different self-similarity characteristics."
   ]
  },
  {
   "cell_type": "code",
   "execution_count": null,
   "metadata": {},
   "outputs": [],
   "source": [
    "import numpy as np\n",
    "import matplotlib.pyplot as plt\n",
    "\n",
    "from sklearn.gaussian_process import GaussianProcessRegressor\n",
    "from sklearn.gaussian_process.kernels import RBF\n",
    "\n",
    "kern_1 = RBF(length_scale=.5, length_scale_bounds=(1e-3, 10.0))\n",
    "kern_2 = RBF(length_scale=.001, length_scale_bounds=(1e-5, 10.0))\n",
    "gp1 = GaussianProcessRegressor(kernel=kern_1)\n",
    "gp2 = GaussianProcessRegressor(kernel=kern_2)\n",
    "\n",
    "%matplotlib inline\n",
    "# Plot prior\n",
    "plt.figure(figsize=(8, 8))\n",
    "plt.subplot(2, 1, 1)\n",
    "X_ = np.linspace(0, 5, 100)\n",
    "\n",
    "t0 = 1\n",
    "tau = .5\n",
    "\n",
    "y_1 = gp1.sample_y(X_[:, np.newaxis], 1)\n",
    "plt.plot(X_, y_1, lw=1)\n",
    "plt.vlines(t0, -3, 3, color='r',  linestyles='dashed')\n",
    "plt.vlines(t0 + tau, -3, 3, color='r',  linestyles='dashed')\n",
    "plt.xlim(0, 5)\n",
    "plt.ylim(-3, 3)\n",
    "plt.title(r'$x_1(t)$')\n",
    "\n",
    "\n",
    "plt.subplot(2, 1, 2)\n",
    "y_2 = gp2.sample_y(X_[:, np.newaxis], 1)\n",
    "plt.plot(X_, y_2, lw=1)\n",
    "plt.vlines(t0, -3, 3, color='r',  linestyles='dashed')\n",
    "plt.vlines(t0 + tau, -3, 3, color='r',  linestyles='dashed')\n",
    "plt.xlim(0, 5)\n",
    "plt.ylim(-3, 3)\n",
    "plt.title(r'$x_2(t)$');\n",
    "\n",
    "\n",
    "\n"
   ]
  },
  {
   "cell_type": "markdown",
   "metadata": {},
   "source": [
    "## Example Autocorrelation Function\n",
    "$\n",
    "\\begin{equation}\n",
    "\\phi(\\tau) = \\exp(-\\frac{\\tau^2}{2\\ell})\n",
    "\\end{equation}\n",
    "$"
   ]
  },
  {
   "cell_type": "code",
   "execution_count": null,
   "metadata": {},
   "outputs": [],
   "source": [
    "tau = np.linspace(-5, 5, 1000)\n",
    "l = .001\n",
    "phi = np.exp((-tau * tau) / (2 * l))\n",
    "\n",
    "plt.title('Autocorrelation Function')\n",
    "plt.plot(tau, phi)\n",
    "plt.xlabel(r'$\\tau$', fontsize=18)\n",
    "plt.ylabel(r'$\\phi(\\tau)$', fontsize=18)\n",
    "\n"
   ]
  },
  {
   "cell_type": "markdown",
   "metadata": {},
   "source": [
    "There are three definitions of the autocorrelation function depending on the nature of the signal.\n",
    "\n",
    "## Infinite duration signal - Power definition\n",
    "$\n",
    "\\begin{equation}\n",
    "\\phi(\\tau)=\\lim_{T\\rightarrow\\infty}\\frac{1}{T}\\int_{-T/2}^{T/2}x(t)x(t+\\tau)dt\n",
    "\\end{equation}\n",
    "$\n",
    "\n",
    "## Finite duration signal - Energy definition\n",
    "$\n",
    "\\begin{equation}\n",
    "\\phi(\\tau)=\\int_{t_1}^{t_2}x(t)x(t+\\tau)dt\n",
    "\\end{equation}\n",
    "$\n",
    "\n",
    "## Periodic signal\n",
    "$\n",
    "\\begin{equation}\n",
    "\\phi(\\tau)=\\frac{1}{T}\\int_{t_0}^{t_0+T}x(t)x(t+\\tau)dt\n",
    "\\end{equation}\n",
    "$\n",
    "\n",
    "## Example\n",
    "Consider the signal \n",
    "$\\begin{equation}\n",
    "x(t)=\\left\\{ \\begin{array}{ll}\n",
    "a & \\textrm{ $0 \\leq t \\leq T$}\\\\\n",
    "0 & \\textrm{otherwise}\n",
    "\\end{array} \\right.\n",
    "\\end{equation}\n",
    "$\n",
    "\n",
    "Derive an expression for the autocorrelation function."
   ]
  },
  {
   "cell_type": "code",
   "execution_count": null,
   "metadata": {},
   "outputs": [],
   "source": [
    "a = 1\n",
    "T = 1\n",
    "t = np.linspace(-2*T, 2*T, 1000)\n",
    "x_t = np.zeros(len(t))\n",
    "\n",
    "x_t[(t > 0) & (t < T)] = 1\n",
    "\n",
    "plt.plot(t, x_t)\n",
    "plt.grid(True)\n",
    "plt.xlabel(r'$t$')\n",
    "plt.ylabel(r'$x(t)$');"
   ]
  },
  {
   "cell_type": "code",
   "execution_count": null,
   "metadata": {},
   "outputs": [],
   "source": [
    "xcorr = np.correlate(x_t, x_t, mode=\"full\")\n",
    "\n",
    "tau = np.linspace(-4*T, 4*T, len(xcorr))\n",
    "plt.plot(tau, xcorr)\n",
    "plt.grid(True)\n",
    "plt.xlabel(r'$\\tau$')"
   ]
  },
  {
   "cell_type": "markdown",
   "metadata": {},
   "source": [
    "## Example\n",
    "Consider the signal\n",
    "\n",
    "$\n",
    "\\begin{equation}\n",
    "x(t) = \\cos(2\\pi ft)\n",
    "\\end{equation}\n",
    "$\n",
    "\n",
    "Compute the autocorrelation function.\n",
    "\n",
    "$\n",
    "\\begin{equation}\n",
    "\\phi(\\tau)=f\\int_{-1/2f}^{1/2f}\\cos(2\\pi ft)\\cos(2\\pi  f(t+\\tau))dt\n",
    "\\end{equation}\n",
    "$\n",
    "\n",
    "\n",
    "# Power Spectrum\n",
    "The power spectrum is the Fourier transform of the autocorrelation function. It is a measure of the distribution of power over frequency.\n",
    "\n",
    "For signals with a narrow autocorrelation, the spectrum is broad. On the other hand, when the autocorrelation is broad, the spectrum is narrow."
   ]
  },
  {
   "cell_type": "code",
   "execution_count": null,
   "metadata": {},
   "outputs": [],
   "source": []
  },
  {
   "cell_type": "code",
   "execution_count": null,
   "metadata": {},
   "outputs": [],
   "source": []
  }
 ],
 "metadata": {
  "kernelspec": {
   "display_name": "Python 3",
   "language": "python",
   "name": "python3"
  },
  "language_info": {
   "codemirror_mode": {
    "name": "ipython",
    "version": 3
   },
   "file_extension": ".py",
   "mimetype": "text/x-python",
   "name": "python",
   "nbconvert_exporter": "python",
   "pygments_lexer": "ipython3",
   "version": "3.7.3"
  }
 },
 "nbformat": 4,
 "nbformat_minor": 2
}
