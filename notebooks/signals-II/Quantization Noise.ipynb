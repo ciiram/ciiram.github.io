{
 "cells": [
  {
   "cell_type": "markdown",
   "metadata": {},
   "source": [
    "## Quantization Noise\n",
    "When samples of a continuous signal are quantized, the difference between the real value $x(nT_s)$ and the quantized value $v(nT_s)$ represents an error.\n",
    "\n",
    "\\begin{equation}\n",
    "e = x - v\n",
    "\\end{equation}\n",
    "\n",
    "### Example\n",
    "Consider the signal $x(t) = A\\sin(2\\pi t)$ which is to be sampled and the sample values represented via a $b$ bit digital representation.\n",
    "\n",
    "The signal is to be represented by $L=2^b$ uniformly spaced levels with spacing\n",
    "\n",
    "\\begin{equation}\n",
    "\\Delta = \\frac{2A}{L}\n",
    "\\end{equation}\n",
    "\n",
    "Consider the case where $A=1$, $b=3$ with a midtread quantizer.\n",
    "\n",
    "The quantization levels are at $-4\\Delta,-3\\Delta, -2\\Delta, -\\Delta, 0, \\Delta, 2\\Delta, 3\\Delta$ \n",
    "\n",
    "The input levels and corresponding quantization levels are\n",
    "1. $[-\\Delta/2, \\Delta/2]\\rightarrow 0$ \n",
    "1. $[\\Delta/2,3/2\\Delta]\\rightarrow \\Delta$\n",
    "1. $[3\\Delta/2,5/2\\Delta]\\rightarrow 2\\Delta$\n",
    "1. $>5/2\\Delta\\rightarrow 3\\Delta$\n",
    "1. $[-\\Delta/2,-3/2\\Delta]\\rightarrow -\\Delta$\n",
    "1. $[-3\\Delta/2,-5/2\\Delta]\\rightarrow -2\\Delta$\n",
    "1. $[-5\\Delta/2,-7/2\\Delta]\\rightarrow -3\\Delta$\n",
    "1. $<-7/2\\Delta\\rightarrow -4\\Delta$\n",
    "\n"
   ]
  },
  {
   "cell_type": "code",
   "execution_count": null,
   "metadata": {},
   "outputs": [],
   "source": [
    "import numpy as np\n",
    "import matplotlib.pyplot as plt\n",
    "\n",
    "A = 1\n",
    "b = 16\n",
    "delta = (2 * A) / (2 ** b)\n",
    "\n",
    "I = np.linspace(-A, A, 1000)\n",
    "O = np.zeros(len(I))\n",
    "\n",
    "output_levels = []\n",
    "for indx in range(-2 ** (b - 1), 2 **(b -1)):\n",
    "    output_levels.append(indx * delta)\n",
    "\n",
    "input_levels = np.array(output_levels) - delta / 2"
   ]
  },
  {
   "cell_type": "code",
   "execution_count": null,
   "metadata": {},
   "outputs": [],
   "source": [
    "for indx in range(2 ** b - 1):\n",
    "    O[(I > input_levels[indx]) & (I < input_levels[indx + 1])] = output_levels[indx]\n",
    "    \n",
    "O[(I > input_levels[-1])] = output_levels[-1]\n",
    "\n",
    "def quantizer(input_level, input_levels, output_levels):\n",
    "    for indx in range(2 ** b - 1):\n",
    "        if (input_level > input_levels[indx]) & (input_level < input_levels[indx + 1]):\n",
    "            return output_levels[indx]\n",
    "    \n",
    "    if input_level > input_levels[-1]:\n",
    "        return output_levels[-1]\n",
    "\n",
    "    "
   ]
  },
  {
   "cell_type": "markdown",
   "metadata": {},
   "source": [
    "Input output mapping"
   ]
  },
  {
   "cell_type": "code",
   "execution_count": null,
   "metadata": {},
   "outputs": [],
   "source": [
    "plt.plot(I, O)\n",
    "plt.grid(True)\n",
    "plt.xlim([-1.1 * A, 1.1 *A])\n",
    "plt.ylim([-1.1 * A, 1.1 *A]);\n",
    "plt.title('Input Output Mapping')\n",
    "plt.xlabel('Input')\n",
    "plt.ylabel('Output')\n",
    "plt.savefig('3bit.jpg', dpi=300)"
   ]
  },
  {
   "cell_type": "markdown",
   "metadata": {},
   "source": [
    "### Binary representation\n",
    "Using the two's complement\n",
    "1. $0 \\rightarrow 000$\n",
    "1. $\\Delta \\rightarrow 001$\n",
    "1. $...$"
   ]
  },
  {
   "cell_type": "code",
   "execution_count": null,
   "metadata": {},
   "outputs": [],
   "source": [
    "quantizer(0.4, input_levels, output_levels)"
   ]
  },
  {
   "cell_type": "code",
   "execution_count": null,
   "metadata": {},
   "outputs": [],
   "source": [
    "t = np.linspace(-1, 1, 1000)\n",
    "signal = A * np.sin(2 * np.pi * t)\n",
    "q_signal = np.zeros(len(signal))\n",
    "\n",
    "for indx in range(len(signal)):\n",
    "    q_signal[indx] = quantizer(signal[indx],\n",
    "                              input_levels,\n",
    "                              output_levels)"
   ]
  },
  {
   "cell_type": "code",
   "execution_count": null,
   "metadata": {},
   "outputs": [],
   "source": [
    "plt.subplot(211)\n",
    "plt.plot(t, signal, 'b', linewidth=4)\n",
    "plt.plot(t, q_signal, 'r', linewidth=4)\n",
    "plt.grid(True)\n",
    "\n",
    "error = signal - q_signal\n",
    "plt.subplot(212)\n",
    "plt.plot(t, error, 'b', linewidth=4)\n",
    "plt.grid(True)\n",
    "plt.savefig('quant.jpg', dpi=300)"
   ]
  },
  {
   "cell_type": "code",
   "execution_count": null,
   "metadata": {},
   "outputs": [],
   "source": [
    "plt.hist(signal - q_signal, 20);"
   ]
  },
  {
   "cell_type": "markdown",
   "metadata": {},
   "source": [
    "## Error Analysis\n",
    "\n",
    "For the uniform quantizer, the error is bounded between $-\\Delta/2$ and $\\Delta/2$.\n",
    "\n",
    "If $L$ is large enough we can assume that the error is uniformly distributed between $-\\Delta/2$ and $\\Delta/2$. That is the probability distribution is\n",
    "$\\begin{equation}\n",
    "f_E(e)=\\left\\{ \\begin{array}{ll}\n",
    "\\frac{1}{\\Delta} & \\textrm{ $-\\frac{\\Delta}{2} \\leq e \\leq \\frac{\\Delta}{2}$}\\\\\n",
    "0 & \\textrm{otherwise}\n",
    "\\end{array} \\right.\n",
    "\\end{equation}\n",
    "$"
   ]
  },
  {
   "cell_type": "markdown",
   "metadata": {},
   "source": [
    "## Question\n",
    "Compute \n",
    "1. $\\int_{-\\infty}^\\infty f_E(e)de$\n",
    "1. $\\int_{-\\infty}^\\infty ef_E(e)de$\n",
    "1. $\\int_{-\\infty}^\\infty e^2f_E(e)de$"
   ]
  },
  {
   "cell_type": "markdown",
   "metadata": {},
   "source": [
    "\n",
    "\n",
    "It can be shown that the variance is \n",
    "\n",
    "\\begin{equation}\n",
    "\\sigma^2=\\frac{\\Delta^2}{12}\n",
    "\\end{equation}\n",
    "\n",
    "Recall that\n",
    "\\begin{equation}\n",
    "\\Delta = \\frac{2A}{2^b}\n",
    "\\end{equation}\n",
    "\n",
    "We can show that \n",
    "\\begin{equation}\n",
    "\\sigma^2 = \\frac{1}{3}A^22^{-2b}\n",
    "\\end{equation}\n",
    "\n",
    "The SNR is given by \n",
    "\\begin{equation}\n",
    "SNR = \\frac{P}{\\sigma^2}\n",
    "\\end{equation}\n",
    "\n",
    "For a sinusoidal signal, $P=\\frac{A^2}{2}$\n",
    "\n",
    "We can show that \n",
    "\\begin{equation}\n",
    "SNR=\\frac{3}{2}2^{2b}\n",
    "\\end{equation}\n",
    "\n",
    "In dB we have \n",
    "\\begin{equation}\n",
    "10\\log_{10}(SNR)=1.8 + 6b\n",
    "\\end{equation}"
   ]
  },
  {
   "cell_type": "code",
   "execution_count": null,
   "metadata": {},
   "outputs": [],
   "source": [
    "np.var(error)"
   ]
  },
  {
   "cell_type": "code",
   "execution_count": null,
   "metadata": {},
   "outputs": [],
   "source": [
    "delta ** 2 / 12\n"
   ]
  },
  {
   "cell_type": "code",
   "execution_count": null,
   "metadata": {},
   "outputs": [],
   "source": []
  }
 ],
 "metadata": {
  "kernelspec": {
   "display_name": "Python 3",
   "language": "python",
   "name": "python3"
  },
  "language_info": {
   "codemirror_mode": {
    "name": "ipython",
    "version": 3
   },
   "file_extension": ".py",
   "mimetype": "text/x-python",
   "name": "python",
   "nbconvert_exporter": "python",
   "pygments_lexer": "ipython3",
   "version": "3.7.3"
  }
 },
 "nbformat": 4,
 "nbformat_minor": 2
}
