{
 "cells": [
  {
   "cell_type": "markdown",
   "metadata": {},
   "source": [
    "# Sampling"
   ]
  },
  {
   "cell_type": "markdown",
   "metadata": {},
   "source": [
    "Let us simulate a continuous signal corresponiding to $x(t) = \\sin(2\\pi t)$ and sample it at regular intervals. The interval is known as the sampling period $T_s$. We use the following values\n",
    "1. $T_s = 1$\n",
    "1. $T_s = \\frac{1}{2}$\n",
    "1. $T_s = \\frac{1}{4}$\n",
    "1. $T_s = \\frac{1}{8}$\n",
    "\n",
    "\n",
    "$x[n]=x(t)\\big|_{t=nT_s}$\n",
    "\n",
    "$x[n]=x(nT_s)$\n",
    "\n",
    "$x[n] = \\sin(2\\pi nT_s)$"
   ]
  },
  {
   "cell_type": "code",
   "execution_count": null,
   "metadata": {},
   "outputs": [],
   "source": [
    "import numpy as np\n",
    "import matplotlib.pyplot as plt\n",
    "\n",
    "t = np.linspace(-2, 2, 1000)\n",
    "n = np.arange(-8,9)\n",
    "\n",
    "\n",
    "Ts = 1 / 8\n",
    "sampling_times = n * Ts\n",
    "\n",
    "%matplotlib inline\n",
    "plt.stem(n, np.sin(2 * np.pi * sampling_times), use_line_collection=True)\n",
    "plt.ylim([-1.5, 1.5])\n",
    "plt.xticks(n, n)\n",
    "plt.xlabel(r'$n$', fontsize=20)\n",
    "plt.ylabel(r'$x[n]$', fontsize=20)\n",
    "plt.grid(True)"
   ]
  },
  {
   "cell_type": "markdown",
   "metadata": {},
   "source": [
    "# Frequency Representation\n",
    "\n",
    "\\begin{equation}\n",
    "X_s(f)=f_s\\sum_{n=-\\infty}^\\infty X(f-nf_s)\n",
    "\\end{equation}\n",
    "\n",
    "$x(t)$ is a bandlimited continuous time signal with bandwidth $W$ Hertz with the frequency spectrum $X(f)$\n",
    "\n",
    "We show this in the cell below for $W=1$ Hertz.\n",
    "\n"
   ]
  },
  {
   "cell_type": "code",
   "execution_count": null,
   "metadata": {},
   "outputs": [],
   "source": [
    "def x_f(f):\n",
    "    W = 1\n",
    "    xf = np.zeros(len(f))\n",
    "    \n",
    "    for indx in range(len(f)):\n",
    "        if np.abs(f[indx]) <= W:\n",
    "            xf[indx] = 1 - np.abs(f[indx])\n",
    "            \n",
    "    return xf\n",
    "        \n",
    "\n",
    "f = np.linspace(-4, 4, 1000)\n",
    "\n",
    "plt.plot(f, x_f(f), linewidth=4)\n",
    "plt.grid(True)\n",
    "plt.ylim([0, 1.2])\n",
    "plt.xlabel(r'$f$', fontsize=20)\n",
    "plt.ylabel(r'$X(f)$', fontsize=20)"
   ]
  },
  {
   "cell_type": "markdown",
   "metadata": {},
   "source": [
    "Sketch $X(f + f_s) + X(f) + X(f - f_s)$\n",
    "when\n",
    "1. $f_s = 1$\n",
    "2. $f_s = 1.5$\n",
    "3. $f_s = 2$"
   ]
  },
  {
   "cell_type": "code",
   "execution_count": null,
   "metadata": {},
   "outputs": [],
   "source": [
    "fs = 4\n",
    "Xc = x_f(f + fs) + x_f(f) + x_f(f - fs)\n",
    "\n",
    "plt.plot(f, Xc, '-b', linewidth=4)\n",
    "plt.plot(f, x_f(f), '--b')\n",
    "plt.plot(f, x_f(f + fs), '--b')\n",
    "plt.plot(f, x_f(f - fs), '--b')\n",
    "plt.grid(True)\n",
    "plt.ylim([0, 1.2])\n",
    "plt.xlabel(r'$f$', fontsize=20)"
   ]
  },
  {
   "cell_type": "markdown",
   "metadata": {},
   "source": [
    "From f = -1 to f = 0\n",
    "\n",
    "X(f) = f + 1\n",
    "\n",
    "From f = 0 to f = 1\n",
    "\n",
    "X(f) = -f + 1\n"
   ]
  },
  {
   "cell_type": "markdown",
   "metadata": {},
   "source": [
    "In general when $f_s>2W$, the replicas of $X(f)$ in $X_s(f)$ do not overlap and $x(t)$ can be recovered from $x_s(t)$ with an ideal low pass filter.\n",
    "\n",
    "If $f_s<2W$, the copies of $X(f)$ overlap and we can no longer recover $x(t)$ from $x_s(t)$ via low pass filtering. \n",
    "\n",
    "The output of low pass filtering will suffer *aliasing distortion* where high frequency components take on the identity of low frequency signals."
   ]
  },
  {
   "cell_type": "code",
   "execution_count": null,
   "metadata": {},
   "outputs": [],
   "source": [
    "# set fs\n",
    "# recall that 2W = 2\n",
    "fs = 1.5"
   ]
  },
  {
   "cell_type": "code",
   "execution_count": null,
   "metadata": {},
   "outputs": [],
   "source": [
    "N = 10\n",
    "\n",
    "\n",
    "\n",
    "Xsf = np.zeros(len(f))\n",
    "for indx in range(-N, N):\n",
    "    Xsf += x_f(f - indx * fs)\n",
    "\n",
    "\n",
    "plt.figure()\n",
    "for indx in range(-N, N):\n",
    "    plt.plot(f, x_f(f - indx * fs), '--b')\n",
    "\n",
    "plt.plot(f, Xsf, linewidth=4)\n",
    "plt.grid(True)\n",
    "plt.ylim([0, 1.2])\n",
    "plt.xlabel(r'$f$', fontsize=20)\n",
    "plt.ylabel(r'$X_s(f)$', fontsize=20)"
   ]
  },
  {
   "cell_type": "markdown",
   "metadata": {},
   "source": [
    "Consider the sampling of $\\cos(2\\pi f_0t)$ when $f_s>2f_0$ and when $f_s<2f_0$. \n",
    "\n",
    "We start by plotting the signal"
   ]
  },
  {
   "cell_type": "code",
   "execution_count": null,
   "metadata": {},
   "outputs": [],
   "source": [
    "t = np.linspace(-1, 1, 1000)\n",
    "f0 = 4\n",
    "xt = np.cos(2 * np.pi * f0 * t)\n",
    "\n",
    "%matplotlib inline\n",
    "plt.figure()\n",
    "plt.plot(t, xt)\n",
    "plt.xlabel('t', fontsize=20)\n",
    "plt.ylabel(r'$x(t)$', fontsize=20)\n",
    "plt.grid(True)"
   ]
  },
  {
   "cell_type": "markdown",
   "metadata": {},
   "source": [
    "We have \n",
    "\\begin{equation}\n",
    "X(f) = \\frac{1}{2}[\\delta(f-f_0)+\\delta(f+f_0)]\n",
    "\\end{equation}\n",
    "\n",
    "We approximate this spectrum using the FFT as shown below."
   ]
  },
  {
   "cell_type": "code",
   "execution_count": null,
   "metadata": {},
   "outputs": [],
   "source": [
    "nfft = 4096 \n",
    "\n",
    "plt.plot(np.arange(-nfft//2, nfft//2) / nfft * (1 / np.diff(t)[0]), \n",
    "         np.fft.fftshift(np.abs(np.fft.fft(xt, nfft))))\n",
    "plt.xlim([-10, 10])\n",
    "plt.xlabel('f', fontsize=20)\n",
    "plt.ylabel(r'$\\hat{X}(f)$', fontsize=20)"
   ]
  },
  {
   "cell_type": "code",
   "execution_count": null,
   "metadata": {},
   "outputs": [],
   "source": [
    "# set fs Recall f0 = 4\n",
    "fs = 6\n",
    "\n",
    "# here fs < 2f0 and aliasing occurs the original (blue) \n",
    "# signal cannot be recovered by a low pass filter "
   ]
  },
  {
   "cell_type": "markdown",
   "metadata": {},
   "source": [
    "\\begin{equation}\n",
    "X_s(f)=f_s\\sum_{n=-\\infty}^\\infty X(f-nf_s)\n",
    "\\end{equation}\n",
    "\n",
    "Sketch $X(f - f_s) + X(f) + X(f + f_s)$ when\n",
    "\n",
    "1. $f_s = 6$\n",
    "1. $f_s = 12$"
   ]
  },
  {
   "cell_type": "code",
   "execution_count": null,
   "metadata": {},
   "outputs": [],
   "source": [
    "for indx in range(-1,2):\n",
    "    if indx == 0:\n",
    "        plt.plot(np.arange(-nfft//2, nfft//2) / nfft * (1 / np.diff(t)[0]) + indx * fs, \n",
    "                 np.fft.fftshift(np.abs(np.fft.fft(xt, nfft))), 'b')\n",
    "\n",
    "    elif indx == -1:\n",
    "        plt.plot(np.arange(-nfft//2, nfft//2) / nfft * (1 / np.diff(t)[0]) + indx * fs, \n",
    "                 np.fft.fftshift(np.abs(np.fft.fft(xt, nfft))), 'g')\n",
    "    elif indx == 1:\n",
    "        plt.plot(np.arange(-nfft//2, nfft//2) / nfft * (1 / np.diff(t)[0]) + indx * fs, \n",
    "                 np.fft.fftshift(np.abs(np.fft.fft(xt, nfft))), 'r')\n",
    "\n",
    "\n",
    "        \n",
    "plt.xlim([-15, 15])\n",
    "plt.xlabel('f', fontsize=20)\n",
    "plt.ylabel(r'$\\hat{X_s}(f)$', fontsize=20);"
   ]
  },
  {
   "cell_type": "code",
   "execution_count": null,
   "metadata": {},
   "outputs": [],
   "source": [
    "# set fs Recall f0 = 4\n",
    "fs = 12\n",
    "\n",
    "# here fs > 2f0 and the original (blue) \n",
    "# signal can be recovered by a low pass filter "
   ]
  },
  {
   "cell_type": "code",
   "execution_count": null,
   "metadata": {},
   "outputs": [],
   "source": [
    "for indx in range(-1,2):\n",
    "    if indx == 0:\n",
    "        plt.plot(np.arange(-nfft//2, nfft//2) / nfft * (1 / np.diff(t)[0]) + indx * fs, \n",
    "                 np.fft.fftshift(np.abs(np.fft.fft(xt, nfft))), 'b')\n",
    "\n",
    "    else:\n",
    "        plt.plot(np.arange(-nfft//2, nfft//2) / nfft * (1 / np.diff(t)[0]) + indx * fs, \n",
    "                 np.fft.fftshift(np.abs(np.fft.fft(xt, nfft))), 'r')\n",
    "\n",
    "        \n",
    "plt.xlim([-15, 15])\n",
    "plt.xlabel('f', fontsize=20)\n",
    "plt.ylabel(r'$\\hat{X_s}(f)$', fontsize=20);"
   ]
  },
  {
   "cell_type": "code",
   "execution_count": null,
   "metadata": {},
   "outputs": [],
   "source": []
  }
 ],
 "metadata": {
  "kernelspec": {
   "display_name": "Python 3",
   "language": "python",
   "name": "python3"
  },
  "language_info": {
   "codemirror_mode": {
    "name": "ipython",
    "version": 3
   },
   "file_extension": ".py",
   "mimetype": "text/x-python",
   "name": "python",
   "nbconvert_exporter": "python",
   "pygments_lexer": "ipython3",
   "version": "3.7.3"
  }
 },
 "nbformat": 4,
 "nbformat_minor": 2
}
